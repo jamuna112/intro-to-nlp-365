{
 "cells": [
  {
   "metadata": {},
   "cell_type": "markdown",
   "source": "<h1> 4.2 Rule-based Sentiment Analysis",
   "id": "2b75427fa3bb25bd"
  },
  {
   "metadata": {},
   "cell_type": "markdown",
   "source": "<h4> Textblob",
   "id": "19576276ee213dfe"
  },
  {
   "metadata": {
    "ExecuteTime": {
     "end_time": "2025-07-31T15:31:33.487481Z",
     "start_time": "2025-07-31T15:31:31.838207Z"
    }
   },
   "cell_type": "code",
   "source": "from textblob import TextBlob",
   "id": "4d96f95aca145076",
   "outputs": [],
   "execution_count": 2
  },
  {
   "metadata": {
    "ExecuteTime": {
     "end_time": "2025-07-31T15:32:54.447844Z",
     "start_time": "2025-07-31T15:32:54.439350Z"
    }
   },
   "cell_type": "code",
   "source": [
    "sen_1 = \"i had a great time at the movie it was really funny\"\n",
    "sen_2 = \"I had a great time at the movie but the parking was terrible\"\n",
    "sen_3 = \"i had a great time at the movie but the parking wasn't great\"\n",
    "sen_4 = \"i went to see a movie\""
   ],
   "id": "475523ca059f107",
   "outputs": [],
   "execution_count": 3
  },
  {
   "metadata": {
    "ExecuteTime": {
     "end_time": "2025-07-31T15:33:55.864728Z",
     "start_time": "2025-07-31T15:33:55.817775Z"
    }
   },
   "cell_type": "code",
   "source": [
    "print(sen_1)\n",
    "sentiment_score = TextBlob(sen_1)\n",
    "print(sentiment_score.sentiment.polarity)"
   ],
   "id": "afdb3e758dec0e07",
   "outputs": [
    {
     "name": "stdout",
     "output_type": "stream",
     "text": [
      "i had a great time at the movie it was really funny\n",
      "0.525\n"
     ]
    }
   ],
   "execution_count": 4
  },
  {
   "metadata": {},
   "cell_type": "markdown",
   "source": [
    "------------------------------------------------------------------------------------------------------------------------\n",
    "TextBlob returns a score between -1 and 1, where negative scores indicate negative sentiment, and positive scores indicate positive sentiment."
   ],
   "id": "8ef4389730c420d5"
  },
  {
   "metadata": {
    "ExecuteTime": {
     "end_time": "2025-07-31T15:57:48.481644Z",
     "start_time": "2025-07-31T15:57:48.463838Z"
    }
   },
   "cell_type": "code",
   "source": [
    "print(sen_2)\n",
    "sentiment_score_2 = TextBlob(sen_2)\n",
    "print(sentiment_score_2.sentiment.polarity)"
   ],
   "id": "dc20cf1df36d91ff",
   "outputs": [
    {
     "name": "stdout",
     "output_type": "stream",
     "text": [
      "I had a great time at the movie but the parking was terrible\n",
      "-0.09999999999999998\n"
     ]
    }
   ],
   "execution_count": 5
  },
  {
   "metadata": {
    "ExecuteTime": {
     "end_time": "2025-07-31T15:59:05.692220Z",
     "start_time": "2025-07-31T15:59:05.678158Z"
    }
   },
   "cell_type": "code",
   "source": [
    "print(sen_3)\n",
    "sentiment_score_3 = TextBlob(sen_3)\n",
    "print(sentiment_score_3.sentiment.polarity)"
   ],
   "id": "42f4e73d43f0fc4c",
   "outputs": [
    {
     "name": "stdout",
     "output_type": "stream",
     "text": [
      "i had a great time at the movie but the parking wasn't great\n",
      "0.8\n"
     ]
    }
   ],
   "execution_count": 6
  },
  {
   "metadata": {
    "ExecuteTime": {
     "end_time": "2025-07-31T15:59:40.688937Z",
     "start_time": "2025-07-31T15:59:40.681574Z"
    }
   },
   "cell_type": "code",
   "source": [
    "print(sen_4)\n",
    "sentiment_score_4 = TextBlob(sen_4)\n",
    "print(sentiment_score_4.sentiment.polarity)"
   ],
   "id": "d855b47fdaa0a18a",
   "outputs": [
    {
     "name": "stdout",
     "output_type": "stream",
     "text": [
      "i went to see a movie\n",
      "0.0\n"
     ]
    }
   ],
   "execution_count": 7
  },
  {
   "metadata": {},
   "cell_type": "markdown",
   "source": "<h4> VADER",
   "id": "ce737848622dfaa"
  },
  {
   "metadata": {
    "ExecuteTime": {
     "end_time": "2025-07-31T16:01:46.017838Z",
     "start_time": "2025-07-31T16:01:46.008554Z"
    }
   },
   "cell_type": "code",
   "source": "from vaderSentiment.vaderSentiment import SentimentIntensityAnalyzer",
   "id": "def22c0e4bc5e474",
   "outputs": [],
   "execution_count": 9
  },
  {
   "metadata": {
    "ExecuteTime": {
     "end_time": "2025-07-31T16:02:38.255918Z",
     "start_time": "2025-07-31T16:02:38.229702Z"
    }
   },
   "cell_type": "code",
   "source": "vader_sentiment = SentimentIntensityAnalyzer()",
   "id": "6bf2a6bd44f0f452",
   "outputs": [],
   "execution_count": 10
  },
  {
   "metadata": {
    "ExecuteTime": {
     "end_time": "2025-07-31T16:03:58.049801Z",
     "start_time": "2025-07-31T16:03:58.041603Z"
    }
   },
   "cell_type": "code",
   "source": [
    "print(sen_1)\n",
    "print(vader_sentiment.polarity_scores(sen_1))"
   ],
   "id": "cc8b9118f9e1c1a5",
   "outputs": [
    {
     "name": "stdout",
     "output_type": "stream",
     "text": [
      "i had a great time at the movie it was really funny\n",
      "{'neg': 0.0, 'neu': 0.578, 'pos': 0.422, 'compound': 0.807}\n"
     ]
    }
   ],
   "execution_count": 11
  },
  {
   "metadata": {},
   "cell_type": "markdown",
   "source": "The compound score gives us the overall score for the text and is scored the same as TextBlob between -1 and 1.",
   "id": "71cc8abe528a2f56"
  },
  {
   "metadata": {
    "ExecuteTime": {
     "end_time": "2025-07-31T16:05:31.441124Z",
     "start_time": "2025-07-31T16:05:31.432646Z"
    }
   },
   "cell_type": "code",
   "source": [
    "print(sen_2)\n",
    "print(vader_sentiment.polarity_scores(sen_2))"
   ],
   "id": "31cdc8d30c79225",
   "outputs": [
    {
     "name": "stdout",
     "output_type": "stream",
     "text": [
      "I had a great time at the movie but the parking was terrible\n",
      "{'neg': 0.234, 'neu': 0.621, 'pos': 0.144, 'compound': -0.3818}\n"
     ]
    }
   ],
   "execution_count": 12
  },
  {
   "metadata": {
    "ExecuteTime": {
     "end_time": "2025-07-31T16:06:23.189280Z",
     "start_time": "2025-07-31T16:06:23.185515Z"
    }
   },
   "cell_type": "code",
   "source": [
    "print(sen_3)\n",
    "print(vader_sentiment.polarity_scores(sen_3))"
   ],
   "id": "a169b7546d4e2c91",
   "outputs": [
    {
     "name": "stdout",
     "output_type": "stream",
     "text": [
      "i had a great time at the movie but the parking wasn't great\n",
      "{'neg': 0.247, 'neu': 0.611, 'pos': 0.142, 'compound': -0.4387}\n"
     ]
    }
   ],
   "execution_count": 13
  },
  {
   "metadata": {
    "ExecuteTime": {
     "end_time": "2025-07-31T16:06:43.827105Z",
     "start_time": "2025-07-31T16:06:43.821480Z"
    }
   },
   "cell_type": "code",
   "source": [
    "print(sen_4)\n",
    "print(vader_sentiment.polarity_scores(sen_4))"
   ],
   "id": "7e0e8fee798e318",
   "outputs": [
    {
     "name": "stdout",
     "output_type": "stream",
     "text": [
      "i went to see a movie\n",
      "{'neg': 0.0, 'neu': 1.0, 'pos': 0.0, 'compound': 0.0}\n"
     ]
    }
   ],
   "execution_count": 14
  },
  {
   "metadata": {},
   "cell_type": "code",
   "outputs": [],
   "execution_count": null,
   "source": "",
   "id": "af1f5ce298097f4"
  }
 ],
 "metadata": {
  "kernelspec": {
   "display_name": "Python [conda env:base] *",
   "language": "python",
   "name": "conda-base-py"
  },
  "language_info": {
   "codemirror_mode": {
    "name": "ipython",
    "version": 2
   },
   "file_extension": ".py",
   "mimetype": "text/x-python",
   "name": "python",
   "nbconvert_exporter": "python",
   "pygments_lexer": "ipython2",
   "version": "2.7.6"
  }
 },
 "nbformat": 4,
 "nbformat_minor": 5
}
