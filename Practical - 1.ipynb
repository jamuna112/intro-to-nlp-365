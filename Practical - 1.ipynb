{
 "cells": [
  {
   "metadata": {},
   "cell_type": "markdown",
   "source": "<H1> Practical",
   "id": "4690e399bd8e0c77"
  },
  {
   "metadata": {},
   "cell_type": "markdown",
   "source": "<h3> Setting the scene",
   "id": "3d536ea4115be1cd"
  },
  {
   "metadata": {},
   "cell_type": "markdown",
   "source": "You're part of a team at a social media company that's facing a rising issue with the spread of fake news on its platform. You've been tasked with analyzing how to detect false information and developing a system to identify it automatically. To tackle this, we'll begin by examining and preparing the data, followed by building a model to classify news stories as either fake or real. Along the way, we'll generate visualizations to better understand our results and think about how we would present our findings to decision-makers within the company.",
   "id": "43b69001ae49138e"
  },
  {
   "metadata": {
    "ExecuteTime": {
     "end_time": "2025-08-06T18:05:19.778904Z",
     "start_time": "2025-08-06T18:05:17.043875Z"
    }
   },
   "cell_type": "code",
   "source": [
    "import pandas as pd\n",
    "import matplotlib.pyplot as plt\n",
    "import seaborn as sns\n",
    "import spacy"
   ],
   "id": "b8c79f1d81a6a0a3",
   "outputs": [],
   "execution_count": 29
  },
  {
   "metadata": {
    "ExecuteTime": {
     "end_time": "2025-08-06T18:05:19.801612Z",
     "start_time": "2025-08-06T18:05:19.799241Z"
    }
   },
   "cell_type": "code",
   "source": [
    "# set plot options\n",
    "plt.rcParams['figure.figsize'] = (12, 8)\n",
    "default_plot_color = \"#00bfbf\""
   ],
   "id": "c41cfc370d18b9ef",
   "outputs": [],
   "execution_count": 30
  },
  {
   "metadata": {
    "ExecuteTime": {
     "end_time": "2025-08-06T18:05:19.826097Z",
     "start_time": "2025-08-06T18:05:19.817216Z"
    }
   },
   "cell_type": "code",
   "source": "data = pd.read_csv(\"fake_news_data.csv\")",
   "id": "2216e28984181f1",
   "outputs": [],
   "execution_count": 31
  },
  {
   "metadata": {
    "ExecuteTime": {
     "end_time": "2025-08-06T18:05:19.846715Z",
     "start_time": "2025-08-06T18:05:19.841410Z"
    }
   },
   "cell_type": "code",
   "source": "data.head()",
   "id": "75d62f7cb42c3695",
   "outputs": [
    {
     "data": {
      "text/plain": [
       "                                               title  \\\n",
       "0  HOLLYWEIRD LIB SUSAN SARANDON Compares Muslim ...   \n",
       "1   Elijah Cummings Called Trump Out To His Face ...   \n",
       "2   Hillary Clinton Says Half Her Cabinet Will Be...   \n",
       "3  Russian bombing of U.S.-backed forces being di...   \n",
       "4  Britain says window to restore Northern Irelan...   \n",
       "\n",
       "                                                text                 date  \\\n",
       "0  There are two small problems with your analogy...         Dec 30, 2015   \n",
       "1  Buried in Trump s bonkers interview with New Y...        April 6, 2017   \n",
       "2  Women make up over 50 percent of this country,...       April 26, 2016   \n",
       "3  WASHINGTON (Reuters) - U.S. Defense Secretary ...  September 18, 2017    \n",
       "4  BELFAST (Reuters) - Northern Ireland s politic...   September 4, 2017    \n",
       "\n",
       "  fake_or_factual  \n",
       "0       Fake News  \n",
       "1       Fake News  \n",
       "2       Fake News  \n",
       "3    Factual News  \n",
       "4    Factual News  "
      ],
      "text/html": [
       "<div>\n",
       "<style scoped>\n",
       "    .dataframe tbody tr th:only-of-type {\n",
       "        vertical-align: middle;\n",
       "    }\n",
       "\n",
       "    .dataframe tbody tr th {\n",
       "        vertical-align: top;\n",
       "    }\n",
       "\n",
       "    .dataframe thead th {\n",
       "        text-align: right;\n",
       "    }\n",
       "</style>\n",
       "<table border=\"1\" class=\"dataframe\">\n",
       "  <thead>\n",
       "    <tr style=\"text-align: right;\">\n",
       "      <th></th>\n",
       "      <th>title</th>\n",
       "      <th>text</th>\n",
       "      <th>date</th>\n",
       "      <th>fake_or_factual</th>\n",
       "    </tr>\n",
       "  </thead>\n",
       "  <tbody>\n",
       "    <tr>\n",
       "      <th>0</th>\n",
       "      <td>HOLLYWEIRD LIB SUSAN SARANDON Compares Muslim ...</td>\n",
       "      <td>There are two small problems with your analogy...</td>\n",
       "      <td>Dec 30, 2015</td>\n",
       "      <td>Fake News</td>\n",
       "    </tr>\n",
       "    <tr>\n",
       "      <th>1</th>\n",
       "      <td>Elijah Cummings Called Trump Out To His Face ...</td>\n",
       "      <td>Buried in Trump s bonkers interview with New Y...</td>\n",
       "      <td>April 6, 2017</td>\n",
       "      <td>Fake News</td>\n",
       "    </tr>\n",
       "    <tr>\n",
       "      <th>2</th>\n",
       "      <td>Hillary Clinton Says Half Her Cabinet Will Be...</td>\n",
       "      <td>Women make up over 50 percent of this country,...</td>\n",
       "      <td>April 26, 2016</td>\n",
       "      <td>Fake News</td>\n",
       "    </tr>\n",
       "    <tr>\n",
       "      <th>3</th>\n",
       "      <td>Russian bombing of U.S.-backed forces being di...</td>\n",
       "      <td>WASHINGTON (Reuters) - U.S. Defense Secretary ...</td>\n",
       "      <td>September 18, 2017</td>\n",
       "      <td>Factual News</td>\n",
       "    </tr>\n",
       "    <tr>\n",
       "      <th>4</th>\n",
       "      <td>Britain says window to restore Northern Irelan...</td>\n",
       "      <td>BELFAST (Reuters) - Northern Ireland s politic...</td>\n",
       "      <td>September 4, 2017</td>\n",
       "      <td>Factual News</td>\n",
       "    </tr>\n",
       "  </tbody>\n",
       "</table>\n",
       "</div>"
      ]
     },
     "execution_count": 32,
     "metadata": {},
     "output_type": "execute_result"
    }
   ],
   "execution_count": 32
  },
  {
   "metadata": {
    "ExecuteTime": {
     "end_time": "2025-08-06T18:05:19.894794Z",
     "start_time": "2025-08-06T18:05:19.890141Z"
    }
   },
   "cell_type": "code",
   "source": "data.info()",
   "id": "fc0c7daff6f90418",
   "outputs": [
    {
     "name": "stdout",
     "output_type": "stream",
     "text": [
      "<class 'pandas.core.frame.DataFrame'>\n",
      "RangeIndex: 198 entries, 0 to 197\n",
      "Data columns (total 4 columns):\n",
      " #   Column           Non-Null Count  Dtype \n",
      "---  ------           --------------  ----- \n",
      " 0   title            198 non-null    object\n",
      " 1   text             198 non-null    object\n",
      " 2   date             198 non-null    object\n",
      " 3   fake_or_factual  198 non-null    object\n",
      "dtypes: object(4)\n",
      "memory usage: 6.3+ KB\n"
     ]
    }
   ],
   "execution_count": 33
  },
  {
   "metadata": {
    "ExecuteTime": {
     "end_time": "2025-08-06T18:05:20.008447Z",
     "start_time": "2025-08-06T18:05:19.935993Z"
    }
   },
   "cell_type": "code",
   "source": [
    "data['fake_or_factual'].value_counts().plot(kind='bar', color=default_plot_color)\n",
    "plt.title(\"Count of Article Classification\")"
   ],
   "id": "af37e2a3faf80f82",
   "outputs": [
    {
     "data": {
      "text/plain": [
       "Text(0.5, 1.0, 'Count of Article Classification')"
      ]
     },
     "execution_count": 34,
     "metadata": {},
     "output_type": "execute_result"
    },
    {
     "data": {
      "text/plain": [
       "<Figure size 1200x800 with 1 Axes>"
      ],
      "image/png": "[encoded data removed]"
     },
     "metadata": {},
     "output_type": "display_data"
    }
   ],
   "execution_count": 34
  },
  {
   "metadata": {},
   "cell_type": "markdown",
   "source": "<h2> Import packages required for processing and analysis",
   "id": "8e9eeeb32bdbcfa8"
  },
  {
   "metadata": {
    "ExecuteTime": {
     "end_time": "2025-08-06T18:05:20.036260Z",
     "start_time": "2025-08-06T18:05:20.033478Z"
    }
   },
   "cell_type": "code",
   "source": [
    "import spacy\n",
    "from spacy import displacy"
   ],
   "id": "537dda669a4bde5b",
   "outputs": [],
   "execution_count": 35
  },
  {
   "metadata": {},
   "cell_type": "markdown",
   "source": "<h3> POS Tagging",
   "id": "58d5f8800188e790"
  },
  {
   "metadata": {
    "ExecuteTime": {
     "end_time": "2025-08-06T18:05:20.266314Z",
     "start_time": "2025-08-06T18:05:20.051741Z"
    }
   },
   "cell_type": "code",
   "source": "nlp = spacy.load('en_core_web_sm')",
   "id": "b6beee9e7f035fa1",
   "outputs": [],
   "execution_count": 36
  },
  {
   "metadata": {
    "ExecuteTime": {
     "end_time": "2025-08-06T18:05:20.282031Z",
     "start_time": "2025-08-06T18:05:20.279239Z"
    }
   },
   "cell_type": "code",
   "source": [
    "fake_news = data[data['fake_or_factual'] == 'Fake News']\n",
    "factual_news = data[data['fake_or_factual'] == 'Factual News']"
   ],
   "id": "5c899da92d29ef6b",
   "outputs": [],
   "execution_count": 37
  },
  {
   "metadata": {
    "ExecuteTime": {
     "end_time": "2025-08-06T18:05:32.029425Z",
     "start_time": "2025-08-06T18:05:20.295637Z"
    }
   },
   "cell_type": "code",
   "source": [
    "fake_spacydocs = list(nlp.pipe(fake_news['text']))\n",
    "factual_spacydocs = list(nlp.pipe(factual_news['text']))"
   ],
   "id": "50f8e9332685e5bd",
   "outputs": [],
   "execution_count": 38
  },
  {
   "metadata": {
    "ExecuteTime": {
     "end_time": "2025-08-06T18:05:32.044792Z",
     "start_time": "2025-08-06T18:05:32.042893Z"
    }
   },
   "cell_type": "code",
   "source": [
    "def extract_token_tags(doc:spacy.tokens.doc.Doc):\n",
    "    return [(i.text, i.ent_type_, i.pos_) for i in doc]"
   ],
   "id": "50c7b336569224a2",
   "outputs": [],
   "execution_count": 39
  },
  {
   "metadata": {
    "ExecuteTime": {
     "end_time": "2025-08-06T18:05:32.061255Z",
     "start_time": "2025-08-06T18:05:32.059215Z"
    }
   },
   "cell_type": "code",
   "source": [
    "# tag fake dataset\n",
    "fake_tagsdf = []\n",
    "columns = [\"token\", \"ner_tag\", \"pos_tag\"]"
   ],
   "id": "b6ceae2af941524d",
   "outputs": [],
   "execution_count": 40
  },
  {
   "metadata": {
    "ExecuteTime": {
     "end_time": "2025-08-06T18:05:32.110036Z",
     "start_time": "2025-08-06T18:05:32.075957Z"
    }
   },
   "cell_type": "code",
   "source": [
    "for ix, doc in enumerate(fake_spacydocs):\n",
    "    tags = extract_token_tags(doc)\n",
    "    tags = pd.DataFrame(tags)\n",
    "    tags.columns = columns\n",
    "    fake_tagsdf.append(tags)"
   ],
   "id": "8634d01539e04d8c",
   "outputs": [],
   "execution_count": 41
  },
  {
   "metadata": {
    "ExecuteTime": {
     "end_time": "2025-08-06T18:05:32.132090Z",
     "start_time": "2025-08-06T18:05:32.126241Z"
    }
   },
   "cell_type": "code",
   "source": "fake_tagsdf = pd.concat(fake_tagsdf)",
   "id": "8d2a44b8ad8063aa",
   "outputs": [],
   "execution_count": 42
  },
  {
   "metadata": {
    "ExecuteTime": {
     "end_time": "2025-08-06T18:05:32.148757Z",
     "start_time": "2025-08-06T18:05:32.145613Z"
    }
   },
   "cell_type": "code",
   "source": [
    "# tag factual dataset\n",
    "fact_tagsdf = []"
   ],
   "id": "af48a4c2f7e181f7",
   "outputs": [],
   "execution_count": 43
  },
  {
   "metadata": {
    "ExecuteTime": {
     "end_time": "2025-08-06T18:05:32.190595Z",
     "start_time": "2025-08-06T18:05:32.161589Z"
    }
   },
   "cell_type": "code",
   "source": [
    "for ix, doc in enumerate(factual_spacydocs):\n",
    "    tags = extract_token_tags(doc)\n",
    "    tags = pd.DataFrame(tags)\n",
    "    tags.columns = columns\n",
    "    fact_tagsdf.append(tags)"
   ],
   "id": "8d953cd4a1ebca32",
   "outputs": [],
   "execution_count": 44
  },
  {
   "metadata": {
    "ExecuteTime": {
     "end_time": "2025-08-06T18:05:32.213983Z",
     "start_time": "2025-08-06T18:05:32.208181Z"
    }
   },
   "cell_type": "code",
   "source": "fact_tagsdf = pd.concat(fact_tagsdf)",
   "id": "76164af3fc335ca",
   "outputs": [],
   "execution_count": 45
  },
  {
   "metadata": {
    "ExecuteTime": {
     "end_time": "2025-08-06T18:05:32.234325Z",
     "start_time": "2025-08-06T18:05:32.228988Z"
    }
   },
   "cell_type": "code",
   "source": "fake_tagsdf.head()",
   "id": "7105707ab9c23fa4",
   "outputs": [
    {
     "data": {
      "text/plain": [
       "      token   ner_tag pos_tag\n",
       "0     There              PRON\n",
       "1       are              VERB\n",
       "2       two  CARDINAL     NUM\n",
       "3     small               ADJ\n",
       "4  problems              NOUN"
      ],
      "text/html": [
       "<div>\n",
       "<style scoped>\n",
       "    .dataframe tbody tr th:only-of-type {\n",
       "        vertical-align: middle;\n",
       "    }\n",
       "\n",
       "    .dataframe tbody tr th {\n",
       "        vertical-align: top;\n",
       "    }\n",
       "\n",
       "    .dataframe thead th {\n",
       "        text-align: right;\n",
       "    }\n",
       "</style>\n",
       "<table border=\"1\" class=\"dataframe\">\n",
       "  <thead>\n",
       "    <tr style=\"text-align: right;\">\n",
       "      <th></th>\n",
       "      <th>token</th>\n",
       "      <th>ner_tag</th>\n",
       "      <th>pos_tag</th>\n",
       "    </tr>\n",
       "  </thead>\n",
       "  <tbody>\n",
       "    <tr>\n",
       "      <th>0</th>\n",
       "      <td>There</td>\n",
       "      <td></td>\n",
       "      <td>PRON</td>\n",
       "    </tr>\n",
       "    <tr>\n",
       "      <th>1</th>\n",
       "      <td>are</td>\n",
       "      <td></td>\n",
       "      <td>VERB</td>\n",
       "    </tr>\n",
       "    <tr>\n",
       "      <th>2</th>\n",
       "      <td>two</td>\n",
       "      <td>CARDINAL</td>\n",
       "      <td>NUM</td>\n",
       "    </tr>\n",
       "    <tr>\n",
       "      <th>3</th>\n",
       "      <td>small</td>\n",
       "      <td></td>\n",
       "      <td>ADJ</td>\n",
       "    </tr>\n",
       "    <tr>\n",
       "      <th>4</th>\n",
       "      <td>problems</td>\n",
       "      <td></td>\n",
       "      <td>NOUN</td>\n",
       "    </tr>\n",
       "  </tbody>\n",
       "</table>\n",
       "</div>"
      ]
     },
     "execution_count": 46,
     "metadata": {},
     "output_type": "execute_result"
    }
   ],
   "execution_count": 46
  },
  {
   "metadata": {
    "ExecuteTime": {
     "end_time": "2025-08-06T18:05:32.292275Z",
     "start_time": "2025-08-06T18:05:32.276041Z"
    }
   },
   "cell_type": "code",
   "source": [
    "pos_counts_fake = fake_tagsdf.groupby(['token', 'pos_tag']).size().reset_index(name=\"counts\").sort_values(by=\"counts\")\n",
    "pos_counts_fake.head(10)"
   ],
   "id": "70f93896f6af78b9",
   "outputs": [
    {
     "data": {
      "text/plain": [
       "                 token pos_tag  counts\n",
       "4014     election.-Two     NUM       1\n",
       "4259             fairy    NOUN       1\n",
       "4258              fair    NOUN       1\n",
       "7614           trickle    NOUN       1\n",
       "4256          failures    NOUN       1\n",
       "4254             fails    VERB       1\n",
       "7616             tries    VERB       1\n",
       "4249           faddish     ADJ       1\n",
       "4248        facts?Case    NOUN       1\n",
       "4246  factions).Before    VERB       1"
      ],
      "text/html": [
       "<div>\n",
       "<style scoped>\n",
       "    .dataframe tbody tr th:only-of-type {\n",
       "        vertical-align: middle;\n",
       "    }\n",
       "\n",
       "    .dataframe tbody tr th {\n",
       "        vertical-align: top;\n",
       "    }\n",
       "\n",
       "    .dataframe thead th {\n",
       "        text-align: right;\n",
       "    }\n",
       "</style>\n",
       "<table border=\"1\" class=\"dataframe\">\n",
       "  <thead>\n",
       "    <tr style=\"text-align: right;\">\n",
       "      <th></th>\n",
       "      <th>token</th>\n",
       "      <th>pos_tag</th>\n",
       "      <th>counts</th>\n",
       "    </tr>\n",
       "  </thead>\n",
       "  <tbody>\n",
       "    <tr>\n",
       "      <th>4014</th>\n",
       "      <td>election.-Two</td>\n",
       "      <td>NUM</td>\n",
       "      <td>1</td>\n",
       "    </tr>\n",
       "    <tr>\n",
       "      <th>4259</th>\n",
       "      <td>fairy</td>\n",
       "      <td>NOUN</td>\n",
       "      <td>1</td>\n",
       "    </tr>\n",
       "    <tr>\n",
       "      <th>4258</th>\n",
       "      <td>fair</td>\n",
       "      <td>NOUN</td>\n",
       "      <td>1</td>\n",
       "    </tr>\n",
       "    <tr>\n",
       "      <th>7614</th>\n",
       "      <td>trickle</td>\n",
       "      <td>NOUN</td>\n",
       "      <td>1</td>\n",
       "    </tr>\n",
       "    <tr>\n",
       "      <th>4256</th>\n",
       "      <td>failures</td>\n",
       "      <td>NOUN</td>\n",
       "      <td>1</td>\n",
       "    </tr>\n",
       "    <tr>\n",
       "      <th>4254</th>\n",
       "      <td>fails</td>\n",
       "      <td>VERB</td>\n",
       "      <td>1</td>\n",
       "    </tr>\n",
       "    <tr>\n",
       "      <th>7616</th>\n",
       "      <td>tries</td>\n",
       "      <td>VERB</td>\n",
       "      <td>1</td>\n",
       "    </tr>\n",
       "    <tr>\n",
       "      <th>4249</th>\n",
       "      <td>faddish</td>\n",
       "      <td>ADJ</td>\n",
       "      <td>1</td>\n",
       "    </tr>\n",
       "    <tr>\n",
       "      <th>4248</th>\n",
       "      <td>facts?Case</td>\n",
       "      <td>NOUN</td>\n",
       "      <td>1</td>\n",
       "    </tr>\n",
       "    <tr>\n",
       "      <th>4246</th>\n",
       "      <td>factions).Before</td>\n",
       "      <td>VERB</td>\n",
       "      <td>1</td>\n",
       "    </tr>\n",
       "  </tbody>\n",
       "</table>\n",
       "</div>"
      ]
     },
     "execution_count": 47,
     "metadata": {},
     "output_type": "execute_result"
    }
   ],
   "execution_count": 47
  },
  {
   "metadata": {
    "ExecuteTime": {
     "end_time": "2025-08-06T18:05:32.369132Z",
     "start_time": "2025-08-06T18:05:32.355432Z"
    }
   },
   "cell_type": "code",
   "source": [
    "pos_counts_fact = fact_tagsdf.groupby(['token', 'pos_tag']).size().reset_index(name=\"counts\").sort_values(by=\"counts\")\n",
    "pos_counts_fact.head(10)"
   ],
   "id": "690693b3327cc14e",
   "outputs": [
    {
     "data": {
      "text/plain": [
       "         token pos_tag  counts\n",
       "6653         …   PUNCT       1\n",
       "2516   captain    NOUN       1\n",
       "4903      path    NOUN       1\n",
       "4902    patent    NOUN       1\n",
       "4899  passport    NOUN       1\n",
       "4898   passing    VERB       1\n",
       "2522   careful     ADJ       1\n",
       "2523   caribou   PROPN       1\n",
       "4894     party   PROPN       1\n",
       "4890   partner    NOUN       1"
      ],
      "text/html": [
       "<div>\n",
       "<style scoped>\n",
       "    .dataframe tbody tr th:only-of-type {\n",
       "        vertical-align: middle;\n",
       "    }\n",
       "\n",
       "    .dataframe tbody tr th {\n",
       "        vertical-align: top;\n",
       "    }\n",
       "\n",
       "    .dataframe thead th {\n",
       "        text-align: right;\n",
       "    }\n",
       "</style>\n",
       "<table border=\"1\" class=\"dataframe\">\n",
       "  <thead>\n",
       "    <tr style=\"text-align: right;\">\n",
       "      <th></th>\n",
       "      <th>token</th>\n",
       "      <th>pos_tag</th>\n",
       "      <th>counts</th>\n",
       "    </tr>\n",
       "  </thead>\n",
       "  <tbody>\n",
       "    <tr>\n",
       "      <th>6653</th>\n",
       "      <td>…</td>\n",
       "      <td>PUNCT</td>\n",
       "      <td>1</td>\n",
       "    </tr>\n",
       "    <tr>\n",
       "      <th>2516</th>\n",
       "      <td>captain</td>\n",
       "      <td>NOUN</td>\n",
       "      <td>1</td>\n",
       "    </tr>\n",
       "    <tr>\n",
       "      <th>4903</th>\n",
       "      <td>path</td>\n",
       "      <td>NOUN</td>\n",
       "      <td>1</td>\n",
       "    </tr>\n",
       "    <tr>\n",
       "      <th>4902</th>\n",
       "      <td>patent</td>\n",
       "      <td>NOUN</td>\n",
       "      <td>1</td>\n",
       "    </tr>\n",
       "    <tr>\n",
       "      <th>4899</th>\n",
       "      <td>passport</td>\n",
       "      <td>NOUN</td>\n",
       "      <td>1</td>\n",
       "    </tr>\n",
       "    <tr>\n",
       "      <th>4898</th>\n",
       "      <td>passing</td>\n",
       "      <td>VERB</td>\n",
       "      <td>1</td>\n",
       "    </tr>\n",
       "    <tr>\n",
       "      <th>2522</th>\n",
       "      <td>careful</td>\n",
       "      <td>ADJ</td>\n",
       "      <td>1</td>\n",
       "    </tr>\n",
       "    <tr>\n",
       "      <th>2523</th>\n",
       "      <td>caribou</td>\n",
       "      <td>PROPN</td>\n",
       "      <td>1</td>\n",
       "    </tr>\n",
       "    <tr>\n",
       "      <th>4894</th>\n",
       "      <td>party</td>\n",
       "      <td>PROPN</td>\n",
       "      <td>1</td>\n",
       "    </tr>\n",
       "    <tr>\n",
       "      <th>4890</th>\n",
       "      <td>partner</td>\n",
       "      <td>NOUN</td>\n",
       "      <td>1</td>\n",
       "    </tr>\n",
       "  </tbody>\n",
       "</table>\n",
       "</div>"
      ]
     },
     "execution_count": 48,
     "metadata": {},
     "output_type": "execute_result"
    }
   ],
   "execution_count": 48
  },
  {
   "metadata": {
    "ExecuteTime": {
     "end_time": "2025-08-06T18:05:32.446094Z",
     "start_time": "2025-08-06T18:05:32.441590Z"
    }
   },
   "cell_type": "code",
   "source": "pos_counts_fake.groupby('pos_tag')['token'].count().sort_values(ascending=True).head(10)",
   "id": "756e1067be0ef592",
   "outputs": [
    {
     "data": {
      "text/plain": [
       "pos_tag\n",
       "SPACE     3\n",
       "SYM       5\n",
       "PART     10\n",
       "X        14\n",
       "CCONJ    19\n",
       "PUNCT    23\n",
       "INTJ     24\n",
       "DET      42\n",
       "SCONJ    51\n",
       "AUX      62\n",
       "Name: token, dtype: int64"
      ]
     },
     "execution_count": 49,
     "metadata": {},
     "output_type": "execute_result"
    }
   ],
   "execution_count": 49
  },
  {
   "metadata": {
    "ExecuteTime": {
     "end_time": "2025-08-06T18:05:32.527564Z",
     "start_time": "2025-08-06T18:05:32.522384Z"
    }
   },
   "cell_type": "code",
   "source": "pos_counts_fact.groupby('pos_tag')['token'].count().sort_values(ascending=True).head(10)",
   "id": "94cabe9d70aec89c",
   "outputs": [
    {
     "data": {
      "text/plain": [
       "pos_tag\n",
       "SYM       4\n",
       "INTJ      7\n",
       "PART      7\n",
       "X        10\n",
       "CCONJ    11\n",
       "SPACE    11\n",
       "PUNCT    22\n",
       "DET      36\n",
       "SCONJ    42\n",
       "AUX      43\n",
       "Name: token, dtype: int64"
      ]
     },
     "execution_count": 50,
     "metadata": {},
     "output_type": "execute_result"
    }
   ],
   "execution_count": 50
  },
  {
   "metadata": {
    "ExecuteTime": {
     "end_time": "2025-08-06T18:05:32.612999Z",
     "start_time": "2025-08-06T18:05:32.603282Z"
    }
   },
   "cell_type": "code",
   "source": "pos_counts_fake[pos_counts_fake.pos_tag == \"NOUN\"][:15]",
   "id": "a1a47a6fbc9d6441",
   "outputs": [
    {
     "data": {
      "text/plain": [
       "           token pos_tag  counts\n",
       "4259       fairy    NOUN       1\n",
       "4258        fair    NOUN       1\n",
       "7614     trickle    NOUN       1\n",
       "4256    failures    NOUN       1\n",
       "4248  facts?Case    NOUN       1\n",
       "4245    factions    NOUN       1\n",
       "4242    facility    NOUN       1\n",
       "4261      fakery    NOUN       1\n",
       "4232      fabric    NOUN       1\n",
       "4262        fall    NOUN       1\n",
       "4264     fallout    NOUN       1\n",
       "4283     fathers    NOUN       1\n",
       "4280    fatality    NOUN       1\n",
       "4273     fantasy    NOUN       1\n",
       "4272        fans    NOUN       1"
      ],
      "text/html": [
       "<div>\n",
       "<style scoped>\n",
       "    .dataframe tbody tr th:only-of-type {\n",
       "        vertical-align: middle;\n",
       "    }\n",
       "\n",
       "    .dataframe tbody tr th {\n",
       "        vertical-align: top;\n",
       "    }\n",
       "\n",
       "    .dataframe thead th {\n",
       "        text-align: right;\n",
       "    }\n",
       "</style>\n",
       "<table border=\"1\" class=\"dataframe\">\n",
       "  <thead>\n",
       "    <tr style=\"text-align: right;\">\n",
       "      <th></th>\n",
       "      <th>token</th>\n",
       "      <th>pos_tag</th>\n",
       "      <th>counts</th>\n",
       "    </tr>\n",
       "  </thead>\n",
       "  <tbody>\n",
       "    <tr>\n",
       "      <th>4259</th>\n",
       "      <td>fairy</td>\n",
       "      <td>NOUN</td>\n",
       "      <td>1</td>\n",
       "    </tr>\n",
       "    <tr>\n",
       "      <th>4258</th>\n",
       "      <td>fair</td>\n",
       "      <td>NOUN</td>\n",
       "      <td>1</td>\n",
       "    </tr>\n",
       "    <tr>\n",
       "      <th>7614</th>\n",
       "      <td>trickle</td>\n",
       "      <td>NOUN</td>\n",
       "      <td>1</td>\n",
       "    </tr>\n",
       "    <tr>\n",
       "      <th>4256</th>\n",
       "      <td>failures</td>\n",
       "      <td>NOUN</td>\n",
       "      <td>1</td>\n",
       "    </tr>\n",
       "    <tr>\n",
       "      <th>4248</th>\n",
       "      <td>facts?Case</td>\n",
       "      <td>NOUN</td>\n",
       "      <td>1</td>\n",
       "    </tr>\n",
       "    <tr>\n",
       "      <th>4245</th>\n",
       "      <td>factions</td>\n",
       "      <td>NOUN</td>\n",
       "      <td>1</td>\n",
       "    </tr>\n",
       "    <tr>\n",
       "      <th>4242</th>\n",
       "      <td>facility</td>\n",
       "      <td>NOUN</td>\n",
       "      <td>1</td>\n",
       "    </tr>\n",
       "    <tr>\n",
       "      <th>4261</th>\n",
       "      <td>fakery</td>\n",
       "      <td>NOUN</td>\n",
       "      <td>1</td>\n",
       "    </tr>\n",
       "    <tr>\n",
       "      <th>4232</th>\n",
       "      <td>fabric</td>\n",
       "      <td>NOUN</td>\n",
       "      <td>1</td>\n",
       "    </tr>\n",
       "    <tr>\n",
       "      <th>4262</th>\n",
       "      <td>fall</td>\n",
       "      <td>NOUN</td>\n",
       "      <td>1</td>\n",
       "    </tr>\n",
       "    <tr>\n",
       "      <th>4264</th>\n",
       "      <td>fallout</td>\n",
       "      <td>NOUN</td>\n",
       "      <td>1</td>\n",
       "    </tr>\n",
       "    <tr>\n",
       "      <th>4283</th>\n",
       "      <td>fathers</td>\n",
       "      <td>NOUN</td>\n",
       "      <td>1</td>\n",
       "    </tr>\n",
       "    <tr>\n",
       "      <th>4280</th>\n",
       "      <td>fatality</td>\n",
       "      <td>NOUN</td>\n",
       "      <td>1</td>\n",
       "    </tr>\n",
       "    <tr>\n",
       "      <th>4273</th>\n",
       "      <td>fantasy</td>\n",
       "      <td>NOUN</td>\n",
       "      <td>1</td>\n",
       "    </tr>\n",
       "    <tr>\n",
       "      <th>4272</th>\n",
       "      <td>fans</td>\n",
       "      <td>NOUN</td>\n",
       "      <td>1</td>\n",
       "    </tr>\n",
       "  </tbody>\n",
       "</table>\n",
       "</div>"
      ]
     },
     "execution_count": 51,
     "metadata": {},
     "output_type": "execute_result"
    }
   ],
   "execution_count": 51
  },
  {
   "metadata": {
    "ExecuteTime": {
     "end_time": "2025-08-06T18:05:32.698624Z",
     "start_time": "2025-08-06T18:05:32.692636Z"
    }
   },
   "cell_type": "code",
   "source": "pos_counts_fact[pos_counts_fact.pos_tag == \"NOUN\"][:15]",
   "id": "cbb6c8407e13b65f",
   "outputs": [
    {
     "data": {
      "text/plain": [
       "              token pos_tag  counts\n",
       "2516        captain    NOUN       1\n",
       "4903           path    NOUN       1\n",
       "4902         patent    NOUN       1\n",
       "4899       passport    NOUN       1\n",
       "4890        partner    NOUN       1\n",
       "4885  participation    NOUN       1\n",
       "2534     casualties    NOUN       1\n",
       "2535       casualty    NOUN       1\n",
       "2540          cause    NOUN       1\n",
       "4876          parks    NOUN       1\n",
       "2530          cases    NOUN       1\n",
       "2543         causes    NOUN       1\n",
       "4904      patriarch    NOUN       1\n",
       "4905         patrol    NOUN       1\n",
       "4926   performances    NOUN       1"
      ],
      "text/html": [
       "<div>\n",
       "<style scoped>\n",
       "    .dataframe tbody tr th:only-of-type {\n",
       "        vertical-align: middle;\n",
       "    }\n",
       "\n",
       "    .dataframe tbody tr th {\n",
       "        vertical-align: top;\n",
       "    }\n",
       "\n",
       "    .dataframe thead th {\n",
       "        text-align: right;\n",
       "    }\n",
       "</style>\n",
       "<table border=\"1\" class=\"dataframe\">\n",
       "  <thead>\n",
       "    <tr style=\"text-align: right;\">\n",
       "      <th></th>\n",
       "      <th>token</th>\n",
       "      <th>pos_tag</th>\n",
       "      <th>counts</th>\n",
       "    </tr>\n",
       "  </thead>\n",
       "  <tbody>\n",
       "    <tr>\n",
       "      <th>2516</th>\n",
       "      <td>captain</td>\n",
       "      <td>NOUN</td>\n",
       "      <td>1</td>\n",
       "    </tr>\n",
       "    <tr>\n",
       "      <th>4903</th>\n",
       "      <td>path</td>\n",
       "      <td>NOUN</td>\n",
       "      <td>1</td>\n",
       "    </tr>\n",
       "    <tr>\n",
       "      <th>4902</th>\n",
       "      <td>patent</td>\n",
       "      <td>NOUN</td>\n",
       "      <td>1</td>\n",
       "    </tr>\n",
       "    <tr>\n",
       "      <th>4899</th>\n",
       "      <td>passport</td>\n",
       "      <td>NOUN</td>\n",
       "      <td>1</td>\n",
       "    </tr>\n",
       "    <tr>\n",
       "      <th>4890</th>\n",
       "      <td>partner</td>\n",
       "      <td>NOUN</td>\n",
       "      <td>1</td>\n",
       "    </tr>\n",
       "    <tr>\n",
       "      <th>4885</th>\n",
       "      <td>participation</td>\n",
       "      <td>NOUN</td>\n",
       "      <td>1</td>\n",
       "    </tr>\n",
       "    <tr>\n",
       "      <th>2534</th>\n",
       "      <td>casualties</td>\n",
       "      <td>NOUN</td>\n",
       "      <td>1</td>\n",
       "    </tr>\n",
       "    <tr>\n",
       "      <th>2535</th>\n",
       "      <td>casualty</td>\n",
       "      <td>NOUN</td>\n",
       "      <td>1</td>\n",
       "    </tr>\n",
       "    <tr>\n",
       "      <th>2540</th>\n",
       "      <td>cause</td>\n",
       "      <td>NOUN</td>\n",
       "      <td>1</td>\n",
       "    </tr>\n",
       "    <tr>\n",
       "      <th>4876</th>\n",
       "      <td>parks</td>\n",
       "      <td>NOUN</td>\n",
       "      <td>1</td>\n",
       "    </tr>\n",
       "    <tr>\n",
       "      <th>2530</th>\n",
       "      <td>cases</td>\n",
       "      <td>NOUN</td>\n",
       "      <td>1</td>\n",
       "    </tr>\n",
       "    <tr>\n",
       "      <th>2543</th>\n",
       "      <td>causes</td>\n",
       "      <td>NOUN</td>\n",
       "      <td>1</td>\n",
       "    </tr>\n",
       "    <tr>\n",
       "      <th>4904</th>\n",
       "      <td>patriarch</td>\n",
       "      <td>NOUN</td>\n",
       "      <td>1</td>\n",
       "    </tr>\n",
       "    <tr>\n",
       "      <th>4905</th>\n",
       "      <td>patrol</td>\n",
       "      <td>NOUN</td>\n",
       "      <td>1</td>\n",
       "    </tr>\n",
       "    <tr>\n",
       "      <th>4926</th>\n",
       "      <td>performances</td>\n",
       "      <td>NOUN</td>\n",
       "      <td>1</td>\n",
       "    </tr>\n",
       "  </tbody>\n",
       "</table>\n",
       "</div>"
      ]
     },
     "execution_count": 52,
     "metadata": {},
     "output_type": "execute_result"
    }
   ],
   "execution_count": 52
  },
  {
   "metadata": {},
   "cell_type": "markdown",
   "source": "<h3> Named Entities",
   "id": "5ab677c3ff914a78"
  },
  {
   "metadata": {
    "ExecuteTime": {
     "end_time": "2025-08-06T18:05:32.780085Z",
     "start_time": "2025-08-06T18:05:32.772075Z"
    }
   },
   "cell_type": "code",
   "source": "top_entities_fake = fake_tagsdf[fake_tagsdf['ner_tag'] != \"\"].groupby(['token', 'ner_tag']).size().reset_index(name='counts').sort_values(by='counts', ascending=False)",
   "id": "920cb3aac3137f53",
   "outputs": [],
   "execution_count": 53
  },
  {
   "metadata": {
    "ExecuteTime": {
     "end_time": "2025-08-06T18:05:32.835050Z",
     "start_time": "2025-08-06T18:05:32.827574Z"
    }
   },
   "cell_type": "code",
   "source": "top_entities_fact = fact_tagsdf[fact_tagsdf['ner_tag'] != \"\"].groupby(['token', 'ner_tag']).size().reset_index(name='counts').sort_values(by='counts', ascending=False)",
   "id": "850b7e7d6464f8bf",
   "outputs": [],
   "execution_count": 54
  },
  {
   "metadata": {
    "ExecuteTime": {
     "end_time": "2025-08-06T18:05:40.296657Z",
     "start_time": "2025-08-06T18:05:40.290435Z"
    }
   },
   "cell_type": "code",
   "source": [
    "ner_palette = {\n",
    "    'ORG': sns.color_palette(\"Set2\").as_hex()[0],\n",
    "    'GPE': sns.color_palette(\"Set2\").as_hex()[1],\n",
    "    'NORP': sns.color_palette(\"Set2\").as_hex()[2],\n",
    "    'PERSON': sns.color_palette(\"Set2\").as_hex()[3],\n",
    "    'DATE': sns.color_palette(\"Set2\").as_hex()[4],\n",
    "    'CARDINAL': sns.color_palette(\"Set2\").as_hex()[5],\n",
    "    'PERCENT': sns.color_palette(\"Set2\").as_hex()[6]\n",
    "}"
   ],
   "id": "97edaad12d49a156",
   "outputs": [],
   "execution_count": 56
  },
  {
   "metadata": {
    "ExecuteTime": {
     "end_time": "2025-08-06T18:08:07.924579Z",
     "start_time": "2025-08-06T18:08:07.775955Z"
    }
   },
   "cell_type": "code",
   "source": [
    "sns.barplot(\n",
    "    x = 'counts',\n",
    "    y = 'token',\n",
    "    hue = 'ner_tag',\n",
    "    palette = ner_palette,\n",
    "    data = top_entities_fake[:10],\n",
    "    orient = 'h',\n",
    "    dodge = False,\n",
    ").set(title=\"Most Common Named Entities in Fake News\")"
   ],
   "id": "60561def7025ad00",
   "outputs": [
    {
     "data": {
      "text/plain": [
       "[Text(0.5, 1.0, 'Most Common Named Entities in Fake News')]"
      ]
     },
     "execution_count": 57,
     "metadata": {},
     "output_type": "execute_result"
    },
    {
     "data": {
      "text/plain": [
       "<Figure size 1200x800 with 1 Axes>"
      ],
      "image/png": "[encoded data removed]"
     },
     "metadata": {},
     "output_type": "display_data"
    }
   ],
   "execution_count": 57
  },
  {
   "metadata": {
    "ExecuteTime": {
     "end_time": "2025-08-06T18:09:40.773333Z",
     "start_time": "2025-08-06T18:09:40.642962Z"
    }
   },
   "cell_type": "code",
   "source": [
    "sns.barplot(\n",
    "    x = 'counts',\n",
    "    y = 'token',\n",
    "    hue = 'ner_tag',\n",
    "    palette = ner_palette,\n",
    "    data = top_entities_fact[:10],\n",
    "    orient = 'h',\n",
    "    dodge = False,\n",
    ").set(title=\"Most Common Named Entities in Factual News\")"
   ],
   "id": "3eec42f535af95f2",
   "outputs": [
    {
     "data": {
      "text/plain": [
       "[Text(0.5, 1.0, 'Most Common Named Entities in Factual News')]"
      ]
     },
     "execution_count": 59,
     "metadata": {},
     "output_type": "execute_result"
    },
    {
     "data": {
      "text/plain": [
       "<Figure size 1200x800 with 1 Axes>"
      ],
      "image/png": "[encoded data removed]"
     },
     "metadata": {},
     "output_type": "display_data"
    }
   ],
   "execution_count": 59
  },
  {
   "metadata": {},
   "cell_type": "code",
   "outputs": [],
   "execution_count": null,
   "source": "",
   "id": "dd4bb02e4f7b873"
  }
 ],
 "metadata": {
  "kernelspec": {
   "display_name": "Python 3",
   "language": "python",
   "name": "python3"
  },
  "language_info": {
   "codemirror_mode": {
    "name": "ipython",
    "version": 2
   },
   "file_extension": ".py",
   "mimetype": "text/x-python",
   "name": "python",
   "nbconvert_exporter": "python",
   "pygments_lexer": "ipython2",
   "version": "2.7.6"
  }
 },
 "nbformat": 4,
 "nbformat_minor": 5
}
