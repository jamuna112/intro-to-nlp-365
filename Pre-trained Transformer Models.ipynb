{
 "cells": [
  {
   "cell_type": "code",
   "id": "initial_id",
   "metadata": {
    "collapsed": true,
    "ExecuteTime": {
     "end_time": "2025-07-31T16:38:08.203816Z",
     "start_time": "2025-07-31T16:38:08.197804Z"
    }
   },
   "source": [
    "import transformers\n",
    "from transformers import pipeline"
   ],
   "outputs": [],
   "execution_count": 16
  },
  {
   "metadata": {
    "ExecuteTime": {
     "end_time": "2025-07-31T16:38:08.833827Z",
     "start_time": "2025-07-31T16:38:08.221697Z"
    }
   },
   "cell_type": "code",
   "source": [
    "from transformers import pipeline\n",
    "sentiment_pipeline = pipeline(\"sentiment-analysis\")"
   ],
   "id": "9cf8294702ced44d",
   "outputs": [
    {
     "name": "stderr",
     "output_type": "stream",
     "text": [
      "No model was supplied, defaulted to distilbert/distilbert-base-uncased-finetuned-sst-2-english and revision 714eb0f (https://huggingface.co/distilbert/distilbert-base-uncased-finetuned-sst-2-english).\n",
      "Using a pipeline without specifying a model name and revision in production is not recommended.\n",
      "Device set to use mps:0\n"
     ]
    }
   ],
   "execution_count": 17
  },
  {
   "metadata": {
    "ExecuteTime": {
     "end_time": "2025-07-31T16:38:08.842820Z",
     "start_time": "2025-07-31T16:38:08.840914Z"
    }
   },
   "cell_type": "code",
   "source": [
    "sentence_1 = \"i had a great time at the movie it was really funny\"\n",
    "sentence_2 = \"i had a great time at the movie but the parking was terrible\"\n",
    "sentence_3 = \"i had a great time at the movie but the parking wasn't great\"\n",
    "sentence_4 = \"i went to see a movie\""
   ],
   "id": "11516b8155d1a860",
   "outputs": [],
   "execution_count": 18
  },
  {
   "metadata": {
    "ExecuteTime": {
     "end_time": "2025-07-31T16:38:08.876633Z",
     "start_time": "2025-07-31T16:38:08.850343Z"
    }
   },
   "cell_type": "code",
   "source": [
    "print(sentence_1)\n",
    "sentiment_pipeline(sentence_1)"
   ],
   "id": "f5879a3eb758a67",
   "outputs": [
    {
     "name": "stdout",
     "output_type": "stream",
     "text": [
      "i had a great time at the movie it was really funny\n"
     ]
    },
    {
     "data": {
      "text/plain": [
       "[{'label': 'POSITIVE', 'score': 0.9998176693916321}]"
      ]
     },
     "execution_count": 19,
     "metadata": {},
     "output_type": "execute_result"
    }
   ],
   "execution_count": 19
  },
  {
   "metadata": {
    "ExecuteTime": {
     "end_time": "2025-07-31T16:38:08.903582Z",
     "start_time": "2025-07-31T16:38:08.889325Z"
    }
   },
   "cell_type": "code",
   "source": [
    "test = sentiment_pipeline(sentence_1)\n",
    "[sub['label'] for sub in test]"
   ],
   "id": "2ffe9c51520533f4",
   "outputs": [
    {
     "data": {
      "text/plain": [
       "['POSITIVE']"
      ]
     },
     "execution_count": 20,
     "metadata": {},
     "output_type": "execute_result"
    }
   ],
   "execution_count": 20
  },
  {
   "metadata": {
    "ExecuteTime": {
     "end_time": "2025-07-31T16:38:08.927113Z",
     "start_time": "2025-07-31T16:38:08.911694Z"
    }
   },
   "cell_type": "code",
   "source": [
    "print(sentence_2)\n",
    "sentiment_pipeline(sentence_2)"
   ],
   "id": "cf6b49c19eb2b3ac",
   "outputs": [
    {
     "name": "stdout",
     "output_type": "stream",
     "text": [
      "i had a great time at the movie but the parking was terrible\n"
     ]
    },
    {
     "data": {
      "text/plain": [
       "[{'label': 'NEGATIVE', 'score': 0.9977464079856873}]"
      ]
     },
     "execution_count": 21,
     "metadata": {},
     "output_type": "execute_result"
    }
   ],
   "execution_count": 21
  },
  {
   "metadata": {
    "ExecuteTime": {
     "end_time": "2025-07-31T16:38:08.954635Z",
     "start_time": "2025-07-31T16:38:08.938114Z"
    }
   },
   "cell_type": "code",
   "source": [
    "print(sentence_3)\n",
    "sentiment_pipeline(sentence_3)"
   ],
   "id": "4ea4b63da48a78d8",
   "outputs": [
    {
     "name": "stdout",
     "output_type": "stream",
     "text": [
      "i had a great time at the movie but the parking wasn't great\n"
     ]
    },
    {
     "data": {
      "text/plain": [
       "[{'label': 'NEGATIVE', 'score': 0.9984902143478394}]"
      ]
     },
     "execution_count": 22,
     "metadata": {},
     "output_type": "execute_result"
    }
   ],
   "execution_count": 22
  },
  {
   "metadata": {
    "ExecuteTime": {
     "end_time": "2025-07-31T16:38:08.980788Z",
     "start_time": "2025-07-31T16:38:08.966557Z"
    }
   },
   "cell_type": "code",
   "source": [
    "print(sentence_4)\n",
    "sentiment_pipeline(sentence_4)"
   ],
   "id": "93012807686e6717",
   "outputs": [
    {
     "name": "stdout",
     "output_type": "stream",
     "text": [
      "i went to see a movie\n"
     ]
    },
    {
     "data": {
      "text/plain": [
       "[{'label': 'POSITIVE', 'score': 0.9802700281143188}]"
      ]
     },
     "execution_count": 23,
     "metadata": {},
     "output_type": "execute_result"
    }
   ],
   "execution_count": 23
  },
  {
   "metadata": {},
   "cell_type": "markdown",
   "source": [
    "The default model isn't giving us great results for our neutral sentence. However there are loads of models we can choose to use that have been trained on different data with different parameters. https://huggingface.co/models?pipeline_tag=text-classification&sort=downloads&search=sentiment\n",
    "Let's try a specific model trained on tweets in the English language only and see if that improves our results."
   ],
   "id": "146c65aa66e33253"
  },
  {
   "metadata": {
    "ExecuteTime": {
     "end_time": "2025-07-31T16:38:10.061278Z",
     "start_time": "2025-07-31T16:38:08.994318Z"
    }
   },
   "cell_type": "code",
   "source": "specific_model = pipeline(\"sentiment-analysis\", model=\"finiteautomata/bertweet-base-sentiment-analysis\")",
   "id": "bf0370e8df9b94e3",
   "outputs": [
    {
     "name": "stderr",
     "output_type": "stream",
     "text": [
      "emoji is not installed, thus not converting emoticons or emojis into text. Install emoji: pip3 install emoji==0.6.0\n",
      "Device set to use mps:0\n"
     ]
    }
   ],
   "execution_count": 24
  },
  {
   "metadata": {
    "ExecuteTime": {
     "end_time": "2025-07-31T16:38:10.107999Z",
     "start_time": "2025-07-31T16:38:10.075318Z"
    }
   },
   "cell_type": "code",
   "source": [
    "print(sentence_1)\n",
    "specific_model(sentence_1)"
   ],
   "id": "d3eacabb015ff49e",
   "outputs": [
    {
     "name": "stdout",
     "output_type": "stream",
     "text": [
      "i had a great time at the movie it was really funny\n"
     ]
    },
    {
     "data": {
      "text/plain": [
       "[{'label': 'POS', 'score': 0.9923344254493713}]"
      ]
     },
     "execution_count": 25,
     "metadata": {},
     "output_type": "execute_result"
    }
   ],
   "execution_count": 25
  },
  {
   "metadata": {
    "ExecuteTime": {
     "end_time": "2025-07-31T16:38:10.140343Z",
     "start_time": "2025-07-31T16:38:10.119111Z"
    }
   },
   "cell_type": "code",
   "source": [
    "print(sentence_2)\n",
    "specific_model(sentence_2)"
   ],
   "id": "bc1fcdae0c2eb010",
   "outputs": [
    {
     "name": "stdout",
     "output_type": "stream",
     "text": [
      "i had a great time at the movie but the parking was terrible\n"
     ]
    },
    {
     "data": {
      "text/plain": [
       "[{'label': 'NEG', 'score': 0.5355539917945862}]"
      ]
     },
     "execution_count": 26,
     "metadata": {},
     "output_type": "execute_result"
    }
   ],
   "execution_count": 26
  },
  {
   "metadata": {
    "ExecuteTime": {
     "end_time": "2025-07-31T16:38:10.170124Z",
     "start_time": "2025-07-31T16:38:10.149767Z"
    }
   },
   "cell_type": "code",
   "source": [
    "print(sentence_3)\n",
    "specific_model(sentence_3)"
   ],
   "id": "a441f4923232d5e8",
   "outputs": [
    {
     "name": "stdout",
     "output_type": "stream",
     "text": [
      "i had a great time at the movie but the parking wasn't great\n"
     ]
    },
    {
     "data": {
      "text/plain": [
       "[{'label': 'POS', 'score': 0.6234404444694519}]"
      ]
     },
     "execution_count": 27,
     "metadata": {},
     "output_type": "execute_result"
    }
   ],
   "execution_count": 27
  },
  {
   "metadata": {
    "ExecuteTime": {
     "end_time": "2025-07-31T16:38:10.202406Z",
     "start_time": "2025-07-31T16:38:10.182260Z"
    }
   },
   "cell_type": "code",
   "source": [
    "print(sentence_4)\n",
    "specific_model(sentence_4)"
   ],
   "id": "63cb14e77496d523",
   "outputs": [
    {
     "name": "stdout",
     "output_type": "stream",
     "text": [
      "i went to see a movie\n"
     ]
    },
    {
     "data": {
      "text/plain": [
       "[{'label': 'NEU', 'score': 0.9007406830787659}]"
      ]
     },
     "execution_count": 28,
     "metadata": {},
     "output_type": "execute_result"
    }
   ],
   "execution_count": 28
  }
 ],
 "metadata": {
  "kernelspec": {
   "display_name": "Python [conda env:base] *",
   "language": "python",
   "name": "conda-base-py"
  },
  "language_info": {
   "codemirror_mode": {
    "name": "ipython",
    "version": 2
   },
   "file_extension": ".py",
   "mimetype": "text/x-python",
   "name": "python",
   "nbconvert_exporter": "python",
   "pygments_lexer": "ipython2",
   "version": "2.7.6"
  }
 },
 "nbformat": 4,
 "nbformat_minor": 5
}
