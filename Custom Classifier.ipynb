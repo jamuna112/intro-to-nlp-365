{
 "cells": [
  {
   "metadata": {},
   "cell_type": "markdown",
   "source": "<h1> Building a Custom Classifier",
   "id": "c79faeb9a3acd2cd"
  },
  {
   "metadata": {
    "ExecuteTime": {
     "end_time": "2025-08-05T18:31:20.280833Z",
     "start_time": "2025-08-05T18:31:20.277261Z"
    }
   },
   "cell_type": "code",
   "source": [
    "import pandas as pd\n",
    "from sklearn.feature_extraction.text import CountVectorizer\n",
    "from sklearn.model_selection import train_test_split\n",
    "from sklearn.linear_model import LogisticRegression\n",
    "from sklearn.metrics import accuracy_score, classification_report"
   ],
   "id": "1d10085c812120f3",
   "outputs": [],
   "execution_count": 24
  },
  {
   "metadata": {
    "ExecuteTime": {
     "end_time": "2025-08-05T18:31:20.311742Z",
     "start_time": "2025-08-05T18:31:20.307225Z"
    }
   },
   "cell_type": "code",
   "source": [
    "data = pd.DataFrame([(\"i love spending time with my friends and family\", \"positive\"),\n",
    "                     (\"that was the best meal i've ever had in my life\", \"positive\"),\n",
    "                     (\"i feel so grateful for everything i have in my life\", \"positive\"),\n",
    "                     (\"i received a promotion at work and i couldn't be happier\", \"positive\"),\n",
    "                     (\"watching a beautiful sunset always fills me with joy\", \"positive\"),\n",
    "                     (\"my partner surprised me with a thoughtful gift and it made my day\", \"positive\"),\n",
    "                     (\"i am so proud of my daughter for graduating with honors\", \"positive\"),\n",
    "                     (\"listening to my favorite music always puts me in a good mood\", \"positive\"),\n",
    "                     (\"i love the feeling of accomplishment after completing a challenging task\", \"positive\"),\n",
    "                     (\"i am excited to go on vacation next week\", \"positive\"),\n",
    "                     (\"i feel so overwhelmed with work and responsibilities\", \"negative\"),\n",
    "                     (\"the traffic during my commute is always so frustrating\", \"negative\"),\n",
    "                     (\"i received a parking ticket and it ruined my day\", \"negative\"),\n",
    "                     (\"i got into an argument with my partner and we're not speaking\", \"negative\"),\n",
    "                     (\"i have a headache and i feel terrible\", \"negative\"),\n",
    "                     (\"i received a rejection letter for the job i really wanted\", \"negative\"),\n",
    "                     (\"my car broke down and it's going to be expensive to fix\", \"negative\"),\n",
    "                     (\"i'm feeling sad because i miss my friends who live far away\", \"negative\"),\n",
    "                     (\"i'm frustrated because i can't seem to make progress on my project\", \"negative\"),\n",
    "                     (\"i'm disappointed because my team lost the game\", \"negative\")\n",
    "                    ],\n",
    "                    columns=['text', 'sentiment'])"
   ],
   "id": "e1cf810d238389d4",
   "outputs": [],
   "execution_count": 25
  },
  {
   "metadata": {
    "ExecuteTime": {
     "end_time": "2025-08-05T18:31:20.350792Z",
     "start_time": "2025-08-05T18:31:20.330908Z"
    }
   },
   "cell_type": "code",
   "source": "data = data.sample(frac=1).reset_index(drop=True)",
   "id": "667635147979c886",
   "outputs": [],
   "execution_count": 26
  },
  {
   "metadata": {
    "ExecuteTime": {
     "end_time": "2025-08-05T18:31:20.384611Z",
     "start_time": "2025-08-05T18:31:20.382513Z"
    }
   },
   "cell_type": "code",
   "source": [
    "X = data['text']\n",
    "y = data['sentiment']"
   ],
   "id": "941fac065281562",
   "outputs": [],
   "execution_count": 27
  },
  {
   "metadata": {
    "ExecuteTime": {
     "end_time": "2025-08-05T18:31:20.413826Z",
     "start_time": "2025-08-05T18:31:20.412283Z"
    }
   },
   "cell_type": "code",
   "source": [
    "# text vectorization to bow - CountVectorizer\n",
    "countvec = CountVectorizer()"
   ],
   "id": "935b4702a8b7228d",
   "outputs": [],
   "execution_count": 28
  },
  {
   "metadata": {
    "ExecuteTime": {
     "end_time": "2025-08-05T18:31:20.443021Z",
     "start_time": "2025-08-05T18:31:20.440113Z"
    }
   },
   "cell_type": "code",
   "source": "countvec_fit = countvec.fit_transform(X)",
   "id": "4a41169c1270a3f9",
   "outputs": [],
   "execution_count": 29
  },
  {
   "metadata": {
    "ExecuteTime": {
     "end_time": "2025-08-05T18:31:20.510307Z",
     "start_time": "2025-08-05T18:31:20.502690Z"
    }
   },
   "cell_type": "code",
   "source": "bag_of_words.head()",
   "id": "6a7c6d2661237e15",
   "outputs": [
    {
     "data": {
      "text/plain": [
       "   accomplishment  after  always  am  an  and  argument  at  away  be  ...  \\\n",
       "0               0      0       0   1   0    0         0   0     0   0  ...   \n",
       "1               1      1       0   0   0    0         0   0     0   0  ...   \n",
       "2               0      0       0   0   0    0         0   0     0   0  ...   \n",
       "3               0      0       0   0   0    1         0   0     0   0  ...   \n",
       "4               0      0       0   1   0    0         0   0     0   0  ...   \n",
       "\n",
       "   vacation  ve  wanted  was  watching  we  week  who  with  work  \n",
       "0         1   0       0    0         0   0     1    0     0     0  \n",
       "1         0   0       0    0         0   0     0    0     0     0  \n",
       "2         0   0       1    0         0   0     0    0     0     0  \n",
       "3         0   0       0    0         0   0     0    0     1     0  \n",
       "4         0   0       0    0         0   0     0    0     1     0  \n",
       "\n",
       "[5 rows x 118 columns]"
      ],
      "text/html": [
       "<div>\n",
       "<style scoped>\n",
       "    .dataframe tbody tr th:only-of-type {\n",
       "        vertical-align: middle;\n",
       "    }\n",
       "\n",
       "    .dataframe tbody tr th {\n",
       "        vertical-align: top;\n",
       "    }\n",
       "\n",
       "    .dataframe thead th {\n",
       "        text-align: right;\n",
       "    }\n",
       "</style>\n",
       "<table border=\"1\" class=\"dataframe\">\n",
       "  <thead>\n",
       "    <tr style=\"text-align: right;\">\n",
       "      <th></th>\n",
       "      <th>accomplishment</th>\n",
       "      <th>after</th>\n",
       "      <th>always</th>\n",
       "      <th>am</th>\n",
       "      <th>an</th>\n",
       "      <th>and</th>\n",
       "      <th>argument</th>\n",
       "      <th>at</th>\n",
       "      <th>away</th>\n",
       "      <th>be</th>\n",
       "      <th>...</th>\n",
       "      <th>vacation</th>\n",
       "      <th>ve</th>\n",
       "      <th>wanted</th>\n",
       "      <th>was</th>\n",
       "      <th>watching</th>\n",
       "      <th>we</th>\n",
       "      <th>week</th>\n",
       "      <th>who</th>\n",
       "      <th>with</th>\n",
       "      <th>work</th>\n",
       "    </tr>\n",
       "  </thead>\n",
       "  <tbody>\n",
       "    <tr>\n",
       "      <th>0</th>\n",
       "      <td>0</td>\n",
       "      <td>0</td>\n",
       "      <td>0</td>\n",
       "      <td>1</td>\n",
       "      <td>0</td>\n",
       "      <td>0</td>\n",
       "      <td>0</td>\n",
       "      <td>0</td>\n",
       "      <td>0</td>\n",
       "      <td>0</td>\n",
       "      <td>...</td>\n",
       "      <td>1</td>\n",
       "      <td>0</td>\n",
       "      <td>0</td>\n",
       "      <td>0</td>\n",
       "      <td>0</td>\n",
       "      <td>0</td>\n",
       "      <td>1</td>\n",
       "      <td>0</td>\n",
       "      <td>0</td>\n",
       "      <td>0</td>\n",
       "    </tr>\n",
       "    <tr>\n",
       "      <th>1</th>\n",
       "      <td>1</td>\n",
       "      <td>1</td>\n",
       "      <td>0</td>\n",
       "      <td>0</td>\n",
       "      <td>0</td>\n",
       "      <td>0</td>\n",
       "      <td>0</td>\n",
       "      <td>0</td>\n",
       "      <td>0</td>\n",
       "      <td>0</td>\n",
       "      <td>...</td>\n",
       "      <td>0</td>\n",
       "      <td>0</td>\n",
       "      <td>0</td>\n",
       "      <td>0</td>\n",
       "      <td>0</td>\n",
       "      <td>0</td>\n",
       "      <td>0</td>\n",
       "      <td>0</td>\n",
       "      <td>0</td>\n",
       "      <td>0</td>\n",
       "    </tr>\n",
       "    <tr>\n",
       "      <th>2</th>\n",
       "      <td>0</td>\n",
       "      <td>0</td>\n",
       "      <td>0</td>\n",
       "      <td>0</td>\n",
       "      <td>0</td>\n",
       "      <td>0</td>\n",
       "      <td>0</td>\n",
       "      <td>0</td>\n",
       "      <td>0</td>\n",
       "      <td>0</td>\n",
       "      <td>...</td>\n",
       "      <td>0</td>\n",
       "      <td>0</td>\n",
       "      <td>1</td>\n",
       "      <td>0</td>\n",
       "      <td>0</td>\n",
       "      <td>0</td>\n",
       "      <td>0</td>\n",
       "      <td>0</td>\n",
       "      <td>0</td>\n",
       "      <td>0</td>\n",
       "    </tr>\n",
       "    <tr>\n",
       "      <th>3</th>\n",
       "      <td>0</td>\n",
       "      <td>0</td>\n",
       "      <td>0</td>\n",
       "      <td>0</td>\n",
       "      <td>0</td>\n",
       "      <td>1</td>\n",
       "      <td>0</td>\n",
       "      <td>0</td>\n",
       "      <td>0</td>\n",
       "      <td>0</td>\n",
       "      <td>...</td>\n",
       "      <td>0</td>\n",
       "      <td>0</td>\n",
       "      <td>0</td>\n",
       "      <td>0</td>\n",
       "      <td>0</td>\n",
       "      <td>0</td>\n",
       "      <td>0</td>\n",
       "      <td>0</td>\n",
       "      <td>1</td>\n",
       "      <td>0</td>\n",
       "    </tr>\n",
       "    <tr>\n",
       "      <th>4</th>\n",
       "      <td>0</td>\n",
       "      <td>0</td>\n",
       "      <td>0</td>\n",
       "      <td>1</td>\n",
       "      <td>0</td>\n",
       "      <td>0</td>\n",
       "      <td>0</td>\n",
       "      <td>0</td>\n",
       "      <td>0</td>\n",
       "      <td>0</td>\n",
       "      <td>...</td>\n",
       "      <td>0</td>\n",
       "      <td>0</td>\n",
       "      <td>0</td>\n",
       "      <td>0</td>\n",
       "      <td>0</td>\n",
       "      <td>0</td>\n",
       "      <td>0</td>\n",
       "      <td>0</td>\n",
       "      <td>1</td>\n",
       "      <td>0</td>\n",
       "    </tr>\n",
       "  </tbody>\n",
       "</table>\n",
       "<p>5 rows × 118 columns</p>\n",
       "</div>"
      ]
     },
     "execution_count": 31,
     "metadata": {},
     "output_type": "execute_result"
    }
   ],
   "execution_count": 31
  },
  {
   "metadata": {
    "ExecuteTime": {
     "end_time": "2025-08-05T18:31:20.642238Z",
     "start_time": "2025-08-05T18:31:20.638362Z"
    }
   },
   "cell_type": "code",
   "source": [
    "# split into train and test data\n",
    "X_train, X_test, y_train, y_test = train_test_split(bag_of_words, y, test_size=0.3, random_state = 7)"
   ],
   "id": "e354a4163e670428",
   "outputs": [],
   "execution_count": 32
  },
  {
   "metadata": {},
   "cell_type": "markdown",
   "source": "<h2> Logistic Regression",
   "id": "65575a0e1ff7265e"
  },
  {
   "metadata": {
    "ExecuteTime": {
     "end_time": "2025-08-05T18:31:20.710025Z",
     "start_time": "2025-08-05T18:31:20.705665Z"
    }
   },
   "cell_type": "code",
   "source": "lr = LogisticRegression(random_state=1).fit(X_train, y_train)",
   "id": "5a7f802bf3c2cb2c",
   "outputs": [],
   "execution_count": 33
  },
  {
   "metadata": {
    "ExecuteTime": {
     "end_time": "2025-08-05T18:31:20.790514Z",
     "start_time": "2025-08-05T18:31:20.785387Z"
    }
   },
   "cell_type": "code",
   "source": "y_pred_lr = lr.predict(X_test)",
   "id": "19e932f4237309fb",
   "outputs": [],
   "execution_count": 34
  },
  {
   "metadata": {
    "ExecuteTime": {
     "end_time": "2025-08-05T18:31:20.841357Z",
     "start_time": "2025-08-05T18:31:20.838295Z"
    }
   },
   "cell_type": "code",
   "source": "accuracy_score(y_pred_lr, y_test)",
   "id": "3fcc884af33bb845",
   "outputs": [
    {
     "data": {
      "text/plain": [
       "0.16666666666666666"
      ]
     },
     "execution_count": 35,
     "metadata": {},
     "output_type": "execute_result"
    }
   ],
   "execution_count": 35
  },
  {
   "metadata": {
    "ExecuteTime": {
     "end_time": "2025-08-05T18:31:20.865704Z",
     "start_time": "2025-08-05T18:31:20.863539Z"
    }
   },
   "cell_type": "code",
   "source": "y_pred_lr",
   "id": "423798d06084f3e",
   "outputs": [
    {
     "data": {
      "text/plain": [
       "array(['negative', 'negative', 'negative', 'negative', 'negative',\n",
       "       'negative'], dtype=object)"
      ]
     },
     "execution_count": 36,
     "metadata": {},
     "output_type": "execute_result"
    }
   ],
   "execution_count": 36
  },
  {
   "metadata": {
    "ExecuteTime": {
     "end_time": "2025-08-05T18:31:20.894946Z",
     "start_time": "2025-08-05T18:31:20.891666Z"
    }
   },
   "cell_type": "code",
   "source": "y_test",
   "id": "ab8cf97bb515ad9",
   "outputs": [
    {
     "data": {
      "text/plain": [
       "1     positive\n",
       "17    positive\n",
       "2     negative\n",
       "5     positive\n",
       "11    positive\n",
       "0     positive\n",
       "Name: sentiment, dtype: object"
      ]
     },
     "execution_count": 37,
     "metadata": {},
     "output_type": "execute_result"
    }
   ],
   "execution_count": 37
  },
  {
   "metadata": {
    "ExecuteTime": {
     "end_time": "2025-08-05T18:31:20.950742Z",
     "start_time": "2025-08-05T18:31:20.942412Z"
    }
   },
   "cell_type": "code",
   "source": "print(classification_report(y_test, y_pred_lr, zero_division=0))",
   "id": "898c3fe783d3b95f",
   "outputs": [
    {
     "name": "stdout",
     "output_type": "stream",
     "text": [
      "              precision    recall  f1-score   support\n",
      "\n",
      "    negative       0.17      1.00      0.29         1\n",
      "    positive       0.00      0.00      0.00         5\n",
      "\n",
      "    accuracy                           0.17         6\n",
      "   macro avg       0.08      0.50      0.14         6\n",
      "weighted avg       0.03      0.17      0.05         6\n",
      "\n"
     ]
    }
   ],
   "execution_count": 38
  },
  {
   "metadata": {},
   "cell_type": "markdown",
   "source": "<h3> Naive Bayes",
   "id": "2e4ea55c89be0f75"
  },
  {
   "metadata": {
    "ExecuteTime": {
     "end_time": "2025-08-05T18:31:21.005222Z",
     "start_time": "2025-08-05T18:31:21.003763Z"
    }
   },
   "cell_type": "code",
   "source": "from sklearn.naive_bayes import MultinomialNB",
   "id": "fa1adf27b95649ad",
   "outputs": [],
   "execution_count": 39
  },
  {
   "metadata": {
    "ExecuteTime": {
     "end_time": "2025-08-05T18:31:21.049026Z",
     "start_time": "2025-08-05T18:31:21.045955Z"
    }
   },
   "cell_type": "code",
   "source": "nb = MultinomialNB().fit(X_train, y_train)",
   "id": "9d8ffe8a5c96b9d3",
   "outputs": [],
   "execution_count": 40
  },
  {
   "metadata": {
    "ExecuteTime": {
     "end_time": "2025-08-05T18:31:21.076698Z",
     "start_time": "2025-08-05T18:31:21.074116Z"
    }
   },
   "cell_type": "code",
   "source": "y_pred_nb = nb.predict(X_test)",
   "id": "b4bf937b243bb30",
   "outputs": [],
   "execution_count": 41
  },
  {
   "metadata": {
    "ExecuteTime": {
     "end_time": "2025-08-05T18:31:21.110439Z",
     "start_time": "2025-08-05T18:31:21.107289Z"
    }
   },
   "cell_type": "code",
   "source": "accuracy_score(y_pred_nb, y_test)",
   "id": "6e7fff1b502fc43",
   "outputs": [
    {
     "data": {
      "text/plain": [
       "0.5"
      ]
     },
     "execution_count": 42,
     "metadata": {},
     "output_type": "execute_result"
    }
   ],
   "execution_count": 42
  },
  {
   "metadata": {
    "ExecuteTime": {
     "end_time": "2025-08-05T18:31:21.149581Z",
     "start_time": "2025-08-05T18:31:21.142707Z"
    }
   },
   "cell_type": "code",
   "source": "print(classification_report(y_test, y_pred_nb, zero_division=0))",
   "id": "e550740c5deb4f7d",
   "outputs": [
    {
     "name": "stdout",
     "output_type": "stream",
     "text": [
      "              precision    recall  f1-score   support\n",
      "\n",
      "    negative       0.00      0.00      0.00         1\n",
      "    positive       0.75      0.60      0.67         5\n",
      "\n",
      "    accuracy                           0.50         6\n",
      "   macro avg       0.38      0.30      0.33         6\n",
      "weighted avg       0.62      0.50      0.56         6\n",
      "\n"
     ]
    }
   ],
   "execution_count": 43
  },
  {
   "metadata": {},
   "cell_type": "markdown",
   "source": "<h2> Linear Support Vector Machine",
   "id": "7e0fa818ddc83f2a"
  },
  {
   "metadata": {
    "ExecuteTime": {
     "end_time": "2025-08-05T18:31:21.181780Z",
     "start_time": "2025-08-05T18:31:21.180148Z"
    }
   },
   "cell_type": "code",
   "source": "from sklearn.linear_model import LogisticRegression, SGDClassifier",
   "id": "1b5614e29c223824",
   "outputs": [],
   "execution_count": 44
  },
  {
   "metadata": {
    "ExecuteTime": {
     "end_time": "2025-08-05T18:31:21.211230Z",
     "start_time": "2025-08-05T18:31:21.208127Z"
    }
   },
   "cell_type": "code",
   "source": [
    "svm = SGDClassifier().fit(X_train, y_train)\n",
    "# possible hyper params, loss function, regularization"
   ],
   "id": "91e7f00ea9c6c04",
   "outputs": [],
   "execution_count": 45
  },
  {
   "metadata": {
    "ExecuteTime": {
     "end_time": "2025-08-05T18:31:21.238065Z",
     "start_time": "2025-08-05T18:31:21.235549Z"
    }
   },
   "cell_type": "code",
   "source": "y_pred_svm = svm.predict(X_test)",
   "id": "a37d66c3fe30d02c",
   "outputs": [],
   "execution_count": 46
  },
  {
   "metadata": {
    "ExecuteTime": {
     "end_time": "2025-08-05T18:31:21.268052Z",
     "start_time": "2025-08-05T18:31:21.265068Z"
    }
   },
   "cell_type": "code",
   "source": "accuracy_score(y_pred_svm, y_test)",
   "id": "c582688e82a0fd7e",
   "outputs": [
    {
     "data": {
      "text/plain": [
       "0.16666666666666666"
      ]
     },
     "execution_count": 47,
     "metadata": {},
     "output_type": "execute_result"
    }
   ],
   "execution_count": 47
  },
  {
   "metadata": {
    "ExecuteTime": {
     "end_time": "2025-08-05T20:29:05.988978Z",
     "start_time": "2025-08-05T20:29:05.960483Z"
    }
   },
   "cell_type": "code",
   "source": "print(classification_report(y_test, y_pred_svm, zero_division=0))",
   "id": "b2d19281bb3ad88f",
   "outputs": [
    {
     "name": "stdout",
     "output_type": "stream",
     "text": [
      "              precision    recall  f1-score   support\n",
      "\n",
      "    negative       0.00      0.00      0.00         1\n",
      "    positive       0.50      0.20      0.29         5\n",
      "\n",
      "    accuracy                           0.17         6\n",
      "   macro avg       0.25      0.10      0.14         6\n",
      "weighted avg       0.42      0.17      0.24         6\n",
      "\n"
     ]
    }
   ],
   "execution_count": 49
  },
  {
   "metadata": {
    "ExecuteTime": {
     "end_time": "2025-08-05T18:31:21.334849Z",
     "start_time": "2025-08-05T18:31:21.333241Z"
    }
   },
   "cell_type": "code",
   "outputs": [],
   "source": "",
   "id": "7ab8b737adfbca7e",
   "execution_count": null
  }
 ],
 "metadata": {
  "kernelspec": {
   "display_name": "Python 3",
   "language": "python",
   "name": "python3"
  },
  "language_info": {
   "codemirror_mode": {
    "name": "ipython",
    "version": 2
   },
   "file_extension": ".py",
   "mimetype": "text/x-python",
   "name": "python",
   "nbconvert_exporter": "python",
   "pygments_lexer": "ipython2",
   "version": "2.7.6"
  }
 },
 "nbformat": 4,
 "nbformat_minor": 5
}
