{
 "cells": [
  {
   "metadata": {},
   "cell_type": "markdown",
   "source": "<h2> Building a Custom Classifier",
   "id": "6f513142c4e51db7"
  },
  {
   "metadata": {
    "ExecuteTime": {
     "end_time": "2025-08-04T17:13:01.465651Z",
     "start_time": "2025-08-04T17:13:01.460452Z"
    }
   },
   "cell_type": "code",
   "source": [
    "import pandas as pd\n",
    "from sklearn.feature_extraction.text import CountVectorizer\n",
    "from sklearn.model_selection import train_test_split\n",
    "from sklearn.linear_model import LogisticRegression\n",
    "from sklearn.metrics import accuracy_score, classification_report"
   ],
   "id": "fcf2cd935e4b94f2",
   "outputs": [],
   "execution_count": 13
  },
  {
   "metadata": {
    "ExecuteTime": {
     "end_time": "2025-08-04T17:13:01.492377Z",
     "start_time": "2025-08-04T17:13:01.485402Z"
    }
   },
   "cell_type": "code",
   "source": [
    "data = pd.DataFrame(\n",
    "[(\"i love spending time with my friends and family\", \"positive\"),\n",
    "(\"that was the best meal i've ever had in my life\", \"positive\"),\n",
    "(\"i feel so grateful for everything i have in my life\", \"positive\"),\n",
    "(\"i received a promotion at work and i couldn't be happier\", \"positive\"),\n",
    "(\"watching a beautiful sunset always fills me with joy\", \"positive\"),\n",
    "(\"my partner surprised me with a thoughtful gift and it made my day\", \"positive\"),\n",
    "(\"i am so proud of my daughter for graduating with honors\", \"positive\"),\n",
    "(\"listening to my favorite music always puts me in a good mood\", \"positive\"),\n",
    "(\"i love the feeling of accomplishment after completing a challenging task\", \"positive\"),\n",
    "(\"i am excited to go on vacation next week\", \"positive\"),\n",
    "(\"i feel so overwhelmed with work and responsibilities\", \"negative\"),\n",
    "(\"the traffic during my commute is always so frustrating\", \"negative\"),\n",
    "(\"i received a parking ticket and it ruined my day\", \"negative\"),\n",
    "(\"i got into an argument with my partner and we're not speaking\", \"negative\"),\n",
    "(\"i have a headache and i feel terrible\", \"negative\"),\n",
    "(\"i received a rejection letter for the job i really wanted\", \"negative\"),\n",
    "(\"my car broke down and it's going to be expensive to fix\", \"negative\"),\n",
    "(\"i'm feeling sad because i miss my friends who live far away\", \"negative\"),\n",
    "(\"i'm frustrated because i can't seem to make progress on my project\", \"negative\"),\n",
    "(\"i'm disappointed because my team lost the game\", \"negative\")],\n",
    "columns=[\"text\", \"sentiment\"])"
   ],
   "id": "d872aa7774236de",
   "outputs": [],
   "execution_count": 14
  },
  {
   "metadata": {
    "ExecuteTime": {
     "end_time": "2025-08-04T17:14:49.830321Z",
     "start_time": "2025-08-04T17:14:49.823098Z"
    }
   },
   "cell_type": "code",
   "source": [
    "# text vectorization to bow - CountVectorizer\n",
    "# not working right now\n",
    "countvec = CountVectorizer()\n",
    "countvec_fit = countvec.fit_transform(data)\n",
    "bag_of_words = pd.DataFrame(countvec_fit.toarray(), columns = countvec.get_feature_names_out())"
   ],
   "id": "3ee904f6daddaa5",
   "outputs": [],
   "execution_count": 17
  },
  {
   "metadata": {
    "ExecuteTime": {
     "end_time": "2025-08-04T17:13:01.532747Z",
     "start_time": "2025-08-04T17:13:01.525524Z"
    }
   },
   "cell_type": "code",
   "source": "bag_of_words.head()",
   "id": "84402fd4b9fb68a1",
   "outputs": [
    {
     "data": {
      "text/plain": [
       "   sentiment  text\n",
       "0          0     1\n",
       "1          1     0"
      ],
      "text/html": [
       "<div>\n",
       "<style scoped>\n",
       "    .dataframe tbody tr th:only-of-type {\n",
       "        vertical-align: middle;\n",
       "    }\n",
       "\n",
       "    .dataframe tbody tr th {\n",
       "        vertical-align: top;\n",
       "    }\n",
       "\n",
       "    .dataframe thead th {\n",
       "        text-align: right;\n",
       "    }\n",
       "</style>\n",
       "<table border=\"1\" class=\"dataframe\">\n",
       "  <thead>\n",
       "    <tr style=\"text-align: right;\">\n",
       "      <th></th>\n",
       "      <th>sentiment</th>\n",
       "      <th>text</th>\n",
       "    </tr>\n",
       "  </thead>\n",
       "  <tbody>\n",
       "    <tr>\n",
       "      <th>0</th>\n",
       "      <td>0</td>\n",
       "      <td>1</td>\n",
       "    </tr>\n",
       "    <tr>\n",
       "      <th>1</th>\n",
       "      <td>1</td>\n",
       "      <td>0</td>\n",
       "    </tr>\n",
       "  </tbody>\n",
       "</table>\n",
       "</div>"
      ]
     },
     "execution_count": 16,
     "metadata": {},
     "output_type": "execute_result"
    }
   ],
   "execution_count": 16
  },
  {
   "metadata": {
    "ExecuteTime": {
     "end_time": "2025-08-04T17:13:01.572678Z",
     "start_time": "2025-08-04T17:13:01.569757Z"
    }
   },
   "cell_type": "code",
   "source": "",
   "id": "76cae3a1cfc28647",
   "outputs": [],
   "execution_count": null
  }
 ],
 "metadata": {
  "kernelspec": {
   "display_name": "Python 3",
   "language": "python",
   "name": "python3"
  },
  "language_info": {
   "codemirror_mode": {
    "name": "ipython",
    "version": 2
   },
   "file_extension": ".py",
   "mimetype": "text/x-python",
   "name": "python",
   "nbconvert_exporter": "python",
   "pygments_lexer": "ipython2",
   "version": "2.7.6"
  }
 },
 "nbformat": 4,
 "nbformat_minor": 5
}
