{
 "cells": [
  {
   "metadata": {},
   "cell_type": "markdown",
   "source": "<h2> Building a Custom Classifier",
   "id": "6f513142c4e51db7"
  },
  {
   "metadata": {
    "ExecuteTime": {
     "end_time": "2025-08-05T17:44:20.481441Z",
     "start_time": "2025-08-05T17:44:19.136675Z"
    }
   },
   "cell_type": "code",
   "source": [
    "import pandas as pd\n",
    "from sklearn.feature_extraction.text import CountVectorizer\n",
    "from sklearn.model_selection import train_test_split\n",
    "from sklearn.linear_model import LogisticRegression\n",
    "from sklearn.metrics import accuracy_score, classification_report"
   ],
   "id": "fcf2cd935e4b94f2",
   "outputs": [],
   "execution_count": 4
  },
  {
   "metadata": {
    "ExecuteTime": {
     "end_time": "2025-08-05T17:44:20.494508Z",
     "start_time": "2025-08-05T17:44:20.489623Z"
    }
   },
   "cell_type": "code",
   "source": [
    "data = pd.DataFrame(\n",
    "[(\"i love spending time with my friends and family\", \"positive\"),\n",
    "(\"that was the best meal i've ever had in my life\", \"positive\"),\n",
    "(\"i feel so grateful for everything i have in my life\", \"positive\"),\n",
    "(\"i received a promotion at work and i couldn't be happier\", \"positive\"),\n",
    "(\"watching a beautiful sunset always fills me with joy\", \"positive\"),\n",
    "(\"my partner surprised me with a thoughtful gift and it made my day\", \"positive\"),\n",
    "(\"i am so proud of my daughter for graduating with honors\", \"positive\"),\n",
    "(\"listening to my favorite music always puts me in a good mood\", \"positive\"),\n",
    "(\"i love the feeling of accomplishment after completing a challenging task\", \"positive\"),\n",
    "(\"i am excited to go on vacation next week\", \"positive\"),\n",
    "(\"i feel so overwhelmed with work and responsibilities\", \"negative\"),\n",
    "(\"the traffic during my commute is always so frustrating\", \"negative\"),\n",
    "(\"i received a parking ticket and it ruined my day\", \"negative\"),\n",
    "(\"i got into an argument with my partner and we're not speaking\", \"negative\"),\n",
    "(\"i have a headache and i feel terrible\", \"negative\"),\n",
    "(\"i received a rejection letter for the job i really wanted\", \"negative\"),\n",
    "(\"my car broke down and it's going to be expensive to fix\", \"negative\"),\n",
    "(\"i'm feeling sad because i miss my friends who live far away\", \"negative\"),\n",
    "(\"i'm frustrated because i can't seem to make progress on my project\", \"negative\"),\n",
    "(\"i'm disappointed because my team lost the game\", \"negative\")],\n",
    "columns=[\"text\", \"sentiment\"])"
   ],
   "id": "d872aa7774236de",
   "outputs": [],
   "execution_count": 5
  },
  {
   "metadata": {
    "ExecuteTime": {
     "end_time": "2025-08-05T17:44:20.511690Z",
     "start_time": "2025-08-05T17:44:20.507486Z"
    }
   },
   "cell_type": "code",
   "source": [
    "# text vectorization to bow - CountVectorizer\n",
    "# not working right now\n",
    "data = data.sample(frac=1).reset_index(drop=True)"
   ],
   "id": "70298fabee6096fc",
   "outputs": [],
   "execution_count": 6
  },
  {
   "metadata": {
    "ExecuteTime": {
     "end_time": "2025-08-05T17:44:20.529429Z",
     "start_time": "2025-08-05T17:44:20.526660Z"
    }
   },
   "cell_type": "code",
   "source": [
    "x = data['text']\n",
    "y = data['sentiment']"
   ],
   "id": "3ee904f6daddaa5",
   "outputs": [],
   "execution_count": 7
  },
  {
   "metadata": {
    "ExecuteTime": {
     "end_time": "2025-08-05T17:44:20.546988Z",
     "start_time": "2025-08-05T17:44:20.544522Z"
    }
   },
   "cell_type": "code",
   "source": "countvec = CountVectorizer()",
   "id": "ce2d6e852c63e041",
   "outputs": [],
   "execution_count": 8
  },
  {
   "metadata": {
    "ExecuteTime": {
     "end_time": "2025-08-05T17:44:48.146610Z",
     "start_time": "2025-08-05T17:44:48.141137Z"
    }
   },
   "cell_type": "code",
   "source": "countvec_fit = countvec.fit_transform(x)",
   "id": "1115a9065c11362b",
   "outputs": [],
   "execution_count": 13
  },
  {
   "metadata": {
    "ExecuteTime": {
     "end_time": "2025-08-05T17:44:50.067472Z",
     "start_time": "2025-08-05T17:44:50.065040Z"
    }
   },
   "cell_type": "code",
   "source": "bag_of_words = pd.DataFrame(countvec_fit.toarray(), columns = countvec.get_feature_names_out())",
   "id": "7296d40f788c428c",
   "outputs": [],
   "execution_count": 14
  },
  {
   "metadata": {
    "ExecuteTime": {
     "end_time": "2025-08-05T17:45:25.298927Z",
     "start_time": "2025-08-05T17:45:25.284276Z"
    }
   },
   "cell_type": "code",
   "source": "bag_of_words.head()",
   "id": "84402fd4b9fb68a1",
   "outputs": [
    {
     "data": {
      "text/plain": [
       "   accomplishment  after  always  am  an  and  argument  at  away  be  ...  \\\n",
       "0               0      0       0   0   0    1         0   1     0   1  ...   \n",
       "1               0      0       0   0   0    1         0   0     0   1  ...   \n",
       "2               0      0       0   0   0    1         0   0     0   0  ...   \n",
       "3               0      0       0   0   1    1         1   0     0   0  ...   \n",
       "4               0      0       0   0   0    0         0   0     0   0  ...   \n",
       "\n",
       "   vacation  ve  wanted  was  watching  we  week  who  with  work  \n",
       "0         0   0       0    0         0   0     0    0     0     1  \n",
       "1         0   0       0    0         0   0     0    0     0     0  \n",
       "2         0   0       0    0         0   0     0    0     1     0  \n",
       "3         0   0       0    0         0   1     0    0     1     0  \n",
       "4         0   0       1    0         0   0     0    0     0     0  \n",
       "\n",
       "[5 rows x 118 columns]"
      ],
      "text/html": [
       "<div>\n",
       "<style scoped>\n",
       "    .dataframe tbody tr th:only-of-type {\n",
       "        vertical-align: middle;\n",
       "    }\n",
       "\n",
       "    .dataframe tbody tr th {\n",
       "        vertical-align: top;\n",
       "    }\n",
       "\n",
       "    .dataframe thead th {\n",
       "        text-align: right;\n",
       "    }\n",
       "</style>\n",
       "<table border=\"1\" class=\"dataframe\">\n",
       "  <thead>\n",
       "    <tr style=\"text-align: right;\">\n",
       "      <th></th>\n",
       "      <th>accomplishment</th>\n",
       "      <th>after</th>\n",
       "      <th>always</th>\n",
       "      <th>am</th>\n",
       "      <th>an</th>\n",
       "      <th>and</th>\n",
       "      <th>argument</th>\n",
       "      <th>at</th>\n",
       "      <th>away</th>\n",
       "      <th>be</th>\n",
       "      <th>...</th>\n",
       "      <th>vacation</th>\n",
       "      <th>ve</th>\n",
       "      <th>wanted</th>\n",
       "      <th>was</th>\n",
       "      <th>watching</th>\n",
       "      <th>we</th>\n",
       "      <th>week</th>\n",
       "      <th>who</th>\n",
       "      <th>with</th>\n",
       "      <th>work</th>\n",
       "    </tr>\n",
       "  </thead>\n",
       "  <tbody>\n",
       "    <tr>\n",
       "      <th>0</th>\n",
       "      <td>0</td>\n",
       "      <td>0</td>\n",
       "      <td>0</td>\n",
       "      <td>0</td>\n",
       "      <td>0</td>\n",
       "      <td>1</td>\n",
       "      <td>0</td>\n",
       "      <td>1</td>\n",
       "      <td>0</td>\n",
       "      <td>1</td>\n",
       "      <td>...</td>\n",
       "      <td>0</td>\n",
       "      <td>0</td>\n",
       "      <td>0</td>\n",
       "      <td>0</td>\n",
       "      <td>0</td>\n",
       "      <td>0</td>\n",
       "      <td>0</td>\n",
       "      <td>0</td>\n",
       "      <td>0</td>\n",
       "      <td>1</td>\n",
       "    </tr>\n",
       "    <tr>\n",
       "      <th>1</th>\n",
       "      <td>0</td>\n",
       "      <td>0</td>\n",
       "      <td>0</td>\n",
       "      <td>0</td>\n",
       "      <td>0</td>\n",
       "      <td>1</td>\n",
       "      <td>0</td>\n",
       "      <td>0</td>\n",
       "      <td>0</td>\n",
       "      <td>1</td>\n",
       "      <td>...</td>\n",
       "      <td>0</td>\n",
       "      <td>0</td>\n",
       "      <td>0</td>\n",
       "      <td>0</td>\n",
       "      <td>0</td>\n",
       "      <td>0</td>\n",
       "      <td>0</td>\n",
       "      <td>0</td>\n",
       "      <td>0</td>\n",
       "      <td>0</td>\n",
       "    </tr>\n",
       "    <tr>\n",
       "      <th>2</th>\n",
       "      <td>0</td>\n",
       "      <td>0</td>\n",
       "      <td>0</td>\n",
       "      <td>0</td>\n",
       "      <td>0</td>\n",
       "      <td>1</td>\n",
       "      <td>0</td>\n",
       "      <td>0</td>\n",
       "      <td>0</td>\n",
       "      <td>0</td>\n",
       "      <td>...</td>\n",
       "      <td>0</td>\n",
       "      <td>0</td>\n",
       "      <td>0</td>\n",
       "      <td>0</td>\n",
       "      <td>0</td>\n",
       "      <td>0</td>\n",
       "      <td>0</td>\n",
       "      <td>0</td>\n",
       "      <td>1</td>\n",
       "      <td>0</td>\n",
       "    </tr>\n",
       "    <tr>\n",
       "      <th>3</th>\n",
       "      <td>0</td>\n",
       "      <td>0</td>\n",
       "      <td>0</td>\n",
       "      <td>0</td>\n",
       "      <td>1</td>\n",
       "      <td>1</td>\n",
       "      <td>1</td>\n",
       "      <td>0</td>\n",
       "      <td>0</td>\n",
       "      <td>0</td>\n",
       "      <td>...</td>\n",
       "      <td>0</td>\n",
       "      <td>0</td>\n",
       "      <td>0</td>\n",
       "      <td>0</td>\n",
       "      <td>0</td>\n",
       "      <td>1</td>\n",
       "      <td>0</td>\n",
       "      <td>0</td>\n",
       "      <td>1</td>\n",
       "      <td>0</td>\n",
       "    </tr>\n",
       "    <tr>\n",
       "      <th>4</th>\n",
       "      <td>0</td>\n",
       "      <td>0</td>\n",
       "      <td>0</td>\n",
       "      <td>0</td>\n",
       "      <td>0</td>\n",
       "      <td>0</td>\n",
       "      <td>0</td>\n",
       "      <td>0</td>\n",
       "      <td>0</td>\n",
       "      <td>0</td>\n",
       "      <td>...</td>\n",
       "      <td>0</td>\n",
       "      <td>0</td>\n",
       "      <td>1</td>\n",
       "      <td>0</td>\n",
       "      <td>0</td>\n",
       "      <td>0</td>\n",
       "      <td>0</td>\n",
       "      <td>0</td>\n",
       "      <td>0</td>\n",
       "      <td>0</td>\n",
       "    </tr>\n",
       "  </tbody>\n",
       "</table>\n",
       "<p>5 rows × 118 columns</p>\n",
       "</div>"
      ]
     },
     "execution_count": 16,
     "metadata": {},
     "output_type": "execute_result"
    }
   ],
   "execution_count": 16
  },
  {
   "metadata": {
    "ExecuteTime": {
     "end_time": "2025-08-05T17:46:26.357540Z",
     "start_time": "2025-08-05T17:46:26.352529Z"
    }
   },
   "cell_type": "code",
   "source": "x_train, x_test, y_train, y_test = train_test_split(bag_of_words, y, test_size=0.3, random_state=7)",
   "id": "76cae3a1cfc28647",
   "outputs": [],
   "execution_count": 18
  },
  {
   "metadata": {
    "ExecuteTime": {
     "end_time": "2025-08-05T17:47:18.801826Z",
     "start_time": "2025-08-05T17:47:18.779342Z"
    }
   },
   "cell_type": "code",
   "source": "lr = LogisticRegression(random_state=1).fit(x_train, y_train)",
   "id": "1d444f413a5de08d",
   "outputs": [],
   "execution_count": 19
  },
  {
   "metadata": {
    "ExecuteTime": {
     "end_time": "2025-08-05T17:48:00.643761Z",
     "start_time": "2025-08-05T17:48:00.638690Z"
    }
   },
   "cell_type": "code",
   "source": "y_pred_lr = lr.predict(x_test)",
   "id": "f673fc8430e60f0b",
   "outputs": [],
   "execution_count": 20
  },
  {
   "metadata": {
    "ExecuteTime": {
     "end_time": "2025-08-05T17:49:02.445681Z",
     "start_time": "2025-08-05T17:49:02.439034Z"
    }
   },
   "cell_type": "code",
   "source": "accuracy_score(y_pred_lr, y_test)",
   "id": "c909699effd0b4d8",
   "outputs": [
    {
     "data": {
      "text/plain": [
       "0.16666666666666666"
      ]
     },
     "execution_count": 21,
     "metadata": {},
     "output_type": "execute_result"
    }
   ],
   "execution_count": 21
  },
  {
   "metadata": {
    "ExecuteTime": {
     "end_time": "2025-08-05T17:49:47.263331Z",
     "start_time": "2025-08-05T17:49:47.249367Z"
    }
   },
   "cell_type": "code",
   "source": "print(classification_report(y_test, y_pred_lr))",
   "id": "563be7acf25a19ca",
   "outputs": [
    {
     "name": "stdout",
     "output_type": "stream",
     "text": [
      "              precision    recall  f1-score   support\n",
      "\n",
      "    negative       0.25      0.33      0.29         3\n",
      "    positive       0.00      0.00      0.00         3\n",
      "\n",
      "    accuracy                           0.17         6\n",
      "   macro avg       0.12      0.17      0.14         6\n",
      "weighted avg       0.12      0.17      0.14         6\n",
      "\n"
     ]
    }
   ],
   "execution_count": 22
  },
  {
   "metadata": {
    "ExecuteTime": {
     "end_time": "2025-08-05T17:53:09.393513Z",
     "start_time": "2025-08-05T17:53:09.378626Z"
    }
   },
   "cell_type": "code",
   "source": "from sklearn.naive_bayes import MultinomialNB",
   "id": "185465ed5f938d41",
   "outputs": [],
   "execution_count": 23
  },
  {
   "metadata": {
    "ExecuteTime": {
     "end_time": "2025-08-05T17:53:37.764541Z",
     "start_time": "2025-08-05T17:53:37.756033Z"
    }
   },
   "cell_type": "code",
   "source": "nb = MultinomialNB().fit(x_train, y_train)",
   "id": "ca8d30095ce28b0d",
   "outputs": [],
   "execution_count": 24
  },
  {
   "metadata": {
    "ExecuteTime": {
     "end_time": "2025-08-05T17:54:20.706833Z",
     "start_time": "2025-08-05T17:54:20.701158Z"
    }
   },
   "cell_type": "code",
   "source": "y_pred_nb = nb.predict(x_test)",
   "id": "f25afd318cdbdd22",
   "outputs": [],
   "execution_count": 25
  },
  {
   "metadata": {
    "ExecuteTime": {
     "end_time": "2025-08-05T17:54:51.868407Z",
     "start_time": "2025-08-05T17:54:51.861799Z"
    }
   },
   "cell_type": "code",
   "source": "accuracy_score(y_pred_nb, y_test)",
   "id": "3cc12c71a2aa5a3b",
   "outputs": [
    {
     "data": {
      "text/plain": [
       "0.16666666666666666"
      ]
     },
     "execution_count": 26,
     "metadata": {},
     "output_type": "execute_result"
    }
   ],
   "execution_count": 26
  },
  {
   "metadata": {
    "ExecuteTime": {
     "end_time": "2025-08-05T17:55:07.216584Z",
     "start_time": "2025-08-05T17:55:07.207890Z"
    }
   },
   "cell_type": "code",
   "source": "print(classification_report(y_test, y_pred_nb))",
   "id": "a8d52a82dda4a3b8",
   "outputs": [
    {
     "name": "stdout",
     "output_type": "stream",
     "text": [
      "              precision    recall  f1-score   support\n",
      "\n",
      "    negative       0.25      0.33      0.29         3\n",
      "    positive       0.00      0.00      0.00         3\n",
      "\n",
      "    accuracy                           0.17         6\n",
      "   macro avg       0.12      0.17      0.14         6\n",
      "weighted avg       0.12      0.17      0.14         6\n",
      "\n"
     ]
    }
   ],
   "execution_count": 27
  },
  {
   "metadata": {},
   "cell_type": "code",
   "outputs": [],
   "execution_count": null,
   "source": "",
   "id": "f1361c0555e9a0b9"
  }
 ],
 "metadata": {
  "kernelspec": {
   "display_name": "Python 3",
   "language": "python",
   "name": "python3"
  },
  "language_info": {
   "codemirror_mode": {
    "name": "ipython",
    "version": 2
   },
   "file_extension": ".py",
   "mimetype": "text/x-python",
   "name": "python",
   "nbconvert_exporter": "python",
   "pygments_lexer": "ipython2",
   "version": "2.7.6"
  }
 },
 "nbformat": 4,
 "nbformat_minor": 5
}
