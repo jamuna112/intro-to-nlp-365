{
 "cells": [
  {
   "cell_type": "code",
   "id": "initial_id",
   "metadata": {
    "collapsed": true,
    "ExecuteTime": {
     "end_time": "2025-07-28T21:27:32.704557Z",
     "start_time": "2025-07-28T21:27:32.695650Z"
    }
   },
   "source": [
    "sentence = \"Her cat's name is Luna\"\n",
    "print(sentence)"
   ],
   "outputs": [
    {
     "name": "stdout",
     "output_type": "stream",
     "text": [
      "Her cat's name is Luna\n"
     ]
    }
   ],
   "execution_count": 3
  },
  {
   "metadata": {
    "ExecuteTime": {
     "end_time": "2025-07-28T21:38:14.575179Z",
     "start_time": "2025-07-28T21:38:14.569647Z"
    }
   },
   "cell_type": "code",
   "source": [
    "lower_sentence = sentence.lower()\n",
    "print(lower_sentence)"
   ],
   "id": "769cc19cee441eb2",
   "outputs": [
    {
     "name": "stdout",
     "output_type": "stream",
     "text": [
      "her cat's name is luna\n"
     ]
    }
   ],
   "execution_count": 7
  },
  {
   "metadata": {
    "ExecuteTime": {
     "end_time": "2025-07-28T21:38:06.911700Z",
     "start_time": "2025-07-28T21:38:06.908713Z"
    }
   },
   "cell_type": "code",
   "source": [
    "sentence_list = ['Could you pass me the TV remote?', 'It is IMPOSSIBLE to find this hotel',\n",
    "                 'Want to go for dinner on Tuesday?']\n",
    "print(sentence_list)"
   ],
   "id": "ef503aa21dec9afb",
   "outputs": [
    {
     "name": "stdout",
     "output_type": "stream",
     "text": [
      "['Could you pass me the TV remote?', 'It is IMPOSSIBLE to find this hotel', 'Want to go for dinner on Tuesday?']\n"
     ]
    }
   ],
   "execution_count": 6
  },
  {
   "metadata": {
    "ExecuteTime": {
     "end_time": "2025-07-28T21:40:09.536269Z",
     "start_time": "2025-07-28T21:40:09.531576Z"
    }
   },
   "cell_type": "code",
   "source": [
    "lower_sentence_list = [x.lower() for x in sentence_list]\n",
    "print(lower_sentence_list)"
   ],
   "id": "d6de8eb679a12a41",
   "outputs": [
    {
     "name": "stdout",
     "output_type": "stream",
     "text": [
      "['could you pass me the tv remote?', 'it is impossible to find this hotel', 'want to go for dinner on tuesday?']\n"
     ]
    }
   ],
   "execution_count": 9
  },
  {
   "metadata": {},
   "cell_type": "code",
   "outputs": [],
   "execution_count": null,
   "source": "",
   "id": "d9a7a749c5285c2d"
  }
 ],
 "metadata": {
  "kernelspec": {
   "display_name": "Python 3",
   "language": "python",
   "name": "python3"
  },
  "language_info": {
   "codemirror_mode": {
    "name": "ipython",
    "version": 2
   },
   "file_extension": ".py",
   "mimetype": "text/x-python",
   "name": "python",
   "nbconvert_exporter": "python",
   "pygments_lexer": "ipython2",
   "version": "2.7.6"
  }
 },
 "nbformat": 4,
 "nbformat_minor": 5
}
