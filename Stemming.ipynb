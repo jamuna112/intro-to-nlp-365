{
 "cells": [
  {
   "metadata": {},
   "cell_type": "markdown",
   "source": "## Stemming",
   "id": "db9c2ea4d63ad850"
  },
  {
   "metadata": {},
   "cell_type": "markdown",
   "source": "The next step in preprocessing is to standardise the text. One option for this is stemming, where words are reduced to their base form. For example words like 'connecting' or 'connected' will be stemmed to the base form 'connect'. Stemming works by removing suffix/ending of word but can sometimes lead to the base form not being meaningful or a proper word.",
   "id": "43d212c1b4d80ecf"
  },
  {
   "metadata": {},
   "cell_type": "markdown",
   "source": "We standardize the text in this way because it will lower the number of unique words in our dataset; therefore reducing the size and complexityof our data. Removing complexity and noise from the data is an important step for preparing our data properly for machine learning.",
   "id": "1062bff52e61eb00"
  },
  {
   "metadata": {
    "ExecuteTime": {
     "end_time": "2025-07-29T18:27:16.993105Z",
     "start_time": "2025-07-29T18:27:16.878956Z"
    }
   },
   "cell_type": "code",
   "source": "from nltk.stem import PorterStemmer",
   "id": "a2821a1f63abd9a9",
   "outputs": [],
   "execution_count": 1
  },
  {
   "metadata": {
    "ExecuteTime": {
     "end_time": "2025-07-29T18:28:03.765901Z",
     "start_time": "2025-07-29T18:28:03.762641Z"
    }
   },
   "cell_type": "code",
   "source": [
    "#create stemmer\n",
    "ps = PorterStemmer()"
   ],
   "id": "6bfef3e895a884f1",
   "outputs": [],
   "execution_count": 2
  },
  {
   "metadata": {
    "ExecuteTime": {
     "end_time": "2025-07-29T18:28:53.470928Z",
     "start_time": "2025-07-29T18:28:53.467420Z"
    }
   },
   "cell_type": "code",
   "source": "connect_tokens = [\"connecting\", 'connected', 'connectivity', 'connect', 'connects']",
   "id": "793fefe24905daf0",
   "outputs": [],
   "execution_count": 3
  },
  {
   "metadata": {
    "ExecuteTime": {
     "end_time": "2025-07-29T18:30:28.926721Z",
     "start_time": "2025-07-29T18:30:28.922664Z"
    }
   },
   "cell_type": "code",
   "source": [
    "for t in connect_tokens:\n",
    "    print(t, \" : \", ps.stem(t))"
   ],
   "id": "2e15290d978ddbaa",
   "outputs": [
    {
     "name": "stdout",
     "output_type": "stream",
     "text": [
      "connecting  :  connect\n",
      "connected  :  connect\n",
      "connectivity  :  connect\n",
      "connect  :  connect\n",
      "connects  :  connect\n"
     ]
    }
   ],
   "execution_count": 5
  },
  {
   "metadata": {
    "ExecuteTime": {
     "end_time": "2025-07-29T18:31:14.840323Z",
     "start_time": "2025-07-29T18:31:14.836966Z"
    }
   },
   "cell_type": "code",
   "source": "learn_tokens = ['learned', 'learning', 'learn', 'learns', 'learner', 'learners']",
   "id": "ccec670395631684",
   "outputs": [],
   "execution_count": 6
  },
  {
   "metadata": {
    "ExecuteTime": {
     "end_time": "2025-07-29T18:32:22.078493Z",
     "start_time": "2025-07-29T18:32:22.074839Z"
    }
   },
   "cell_type": "code",
   "source": [
    "for t in learn_tokens:\n",
    "    print(t, \" : \", ps.stem(t))"
   ],
   "id": "d1272ae123a6bb71",
   "outputs": [
    {
     "name": "stdout",
     "output_type": "stream",
     "text": [
      "learned  :  learn\n",
      "learning  :  learn\n",
      "learn  :  learn\n",
      "learns  :  learn\n",
      "learner  :  learner\n",
      "learners  :  learner\n"
     ]
    }
   ],
   "execution_count": 8
  },
  {
   "metadata": {
    "ExecuteTime": {
     "end_time": "2025-07-29T18:32:50.843836Z",
     "start_time": "2025-07-29T18:32:50.840715Z"
    }
   },
   "cell_type": "code",
   "source": "likes_tokens = ['likes', 'better', 'worse']",
   "id": "dd0f849364ae5a17",
   "outputs": [],
   "execution_count": 9
  },
  {
   "metadata": {
    "ExecuteTime": {
     "end_time": "2025-07-29T18:33:07.273167Z",
     "start_time": "2025-07-29T18:33:07.269390Z"
    }
   },
   "cell_type": "code",
   "source": [
    "for t in likes_tokens:\n",
    "    print(t, \" : \", ps.stem(t))"
   ],
   "id": "fd3a7bafd2dd6be5",
   "outputs": [
    {
     "name": "stdout",
     "output_type": "stream",
     "text": [
      "likes  :  like\n",
      "better  :  better\n",
      "worse  :  wors\n"
     ]
    }
   ],
   "execution_count": 10
  }
 ],
 "metadata": {
  "kernelspec": {
   "display_name": "Python 3",
   "language": "python",
   "name": "python3"
  },
  "language_info": {
   "codemirror_mode": {
    "name": "ipython",
    "version": 2
   },
   "file_extension": ".py",
   "mimetype": "text/x-python",
   "name": "python",
   "nbconvert_exporter": "python",
   "pygments_lexer": "ipython2",
   "version": "2.7.6"
  }
 },
 "nbformat": 4,
 "nbformat_minor": 5
}
