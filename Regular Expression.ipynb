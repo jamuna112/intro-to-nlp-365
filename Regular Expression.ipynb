{
 "cells": [
  {
   "metadata": {},
   "cell_type": "markdown",
   "source": "# Regular Expression",
   "id": "3f544ae7090b3aec"
  },
  {
   "metadata": {
    "ExecuteTime": {
     "end_time": "2025-07-29T00:00:28.546126Z",
     "start_time": "2025-07-29T00:00:28.542649Z"
    }
   },
   "cell_type": "code",
   "source": "import re",
   "id": "af910ba819397009",
   "outputs": [],
   "execution_count": 50
  },
  {
   "metadata": {
    "ExecuteTime": {
     "end_time": "2025-07-28T23:20:53.240082Z",
     "start_time": "2025-07-28T23:20:53.234977Z"
    }
   },
   "cell_type": "code",
   "source": [
    "# print text without using raw string indicator\n",
    "my_folder = \"C:\\desktop\\notes\"\n",
    "print(my_folder)"
   ],
   "id": "8a7d1a5bc5fda90",
   "outputs": [
    {
     "name": "stdout",
     "output_type": "stream",
     "text": [
      "C:\\desktop\n",
      "otes\n"
     ]
    }
   ],
   "execution_count": 11
  },
  {
   "metadata": {
    "ExecuteTime": {
     "end_time": "2025-07-28T23:14:47.836953Z",
     "start_time": "2025-07-28T23:14:47.832909Z"
    }
   },
   "cell_type": "code",
   "source": [
    "# include raw string indicator\n",
    "my_folder = r\"C:\\desktop\\notes\"\n",
    "print(my_folder)"
   ],
   "id": "591a5ed6f4f0fe6d",
   "outputs": [
    {
     "name": "stdout",
     "output_type": "stream",
     "text": [
      "C:\\desktop\\notes\n"
     ]
    }
   ],
   "execution_count": 5
  },
  {
   "metadata": {},
   "cell_type": "markdown",
   "source": "## re.search",
   "id": "5a137359bd2434fc"
  },
  {
   "metadata": {},
   "cell_type": "markdown",
   "source": "re.search is a function which allows us to check if a certain pattern is in a string. It uses logic as re.search(\"pattern to find\", \"string to find it it\"). It will return the pattern if it's found or else it will return none.",
   "id": "5b6ea8d10fe52d2a"
  },
  {
   "metadata": {
    "ExecuteTime": {
     "end_time": "2025-07-28T23:21:09.855204Z",
     "start_time": "2025-07-28T23:21:09.852135Z"
    }
   },
   "cell_type": "code",
   "source": [
    "import re\n",
    "result_search = re.search(\"pattern\", r\"string containing the pattern\")\n",
    "print(result_search)"
   ],
   "id": "eb01ac3d8bbb8b26",
   "outputs": [
    {
     "name": "stdout",
     "output_type": "stream",
     "text": [
      "<re.Match object; span=(22, 29), match='pattern'>\n"
     ]
    }
   ],
   "execution_count": 12
  },
  {
   "metadata": {
    "ExecuteTime": {
     "end_time": "2025-07-28T23:23:08.453780Z",
     "start_time": "2025-07-28T23:23:08.448267Z"
    }
   },
   "cell_type": "code",
   "source": [
    "result_search = re.search(\"pattern\", r\"the phrase to find isn't in this string\")\n",
    "print(result_search)"
   ],
   "id": "4bcc367de9d25671",
   "outputs": [
    {
     "name": "stdout",
     "output_type": "stream",
     "text": [
      "None\n"
     ]
    }
   ],
   "execution_count": 15
  },
  {
   "metadata": {},
   "cell_type": "markdown",
   "source": "## re.sub",
   "id": "3410651b4597fdd5"
  },
  {
   "metadata": {},
   "cell_type": "markdown",
   "source": "re.sub allows us to find certain text and replace it.\n",
   "id": "d9cb5388bb902d9c"
  },
  {
   "metadata": {
    "ExecuteTime": {
     "end_time": "2025-07-28T23:26:11.999125Z",
     "start_time": "2025-07-28T23:26:11.994396Z"
    }
   },
   "cell_type": "code",
   "source": "string = r\"sara was able to help me find the items i needed quickly\"",
   "id": "3af91c80658f78e3",
   "outputs": [],
   "execution_count": 17
  },
  {
   "metadata": {
    "ExecuteTime": {
     "end_time": "2025-07-28T23:27:09.207171Z",
     "start_time": "2025-07-28T23:27:09.202153Z"
    }
   },
   "cell_type": "code",
   "source": [
    "new_string = re.sub(r\"sara\", r\"sarah\", string) #replace the incorrect spelling of sarah\n",
    "print(new_string)"
   ],
   "id": "84de2c1e2f7f02b5",
   "outputs": [
    {
     "name": "stdout",
     "output_type": "stream",
     "text": [
      "sarah was able to help me find the items i needed quickly\n"
     ]
    }
   ],
   "execution_count": 18
  },
  {
   "metadata": {},
   "cell_type": "code",
   "outputs": [],
   "execution_count": null,
   "source": "",
   "id": "3d462f2b8ed4b66c"
  },
  {
   "metadata": {},
   "cell_type": "markdown",
   "source": "# Regex Syntax",
   "id": "23f2a04c783df3d0"
  },
  {
   "metadata": {},
   "cell_type": "markdown",
   "source": "The real power of regex is being able to leverage the syntax to create more complex searches / replacements.",
   "id": "aab2aaccb3e8b2e3"
  },
  {
   "metadata": {
    "ExecuteTime": {
     "end_time": "2025-07-28T23:51:59.907624Z",
     "start_time": "2025-07-28T23:51:59.904608Z"
    }
   },
   "cell_type": "code",
   "source": [
    "customer_reviews = ['Sam was a great help to me in the store', 'the cashier was very rude to me, I think her name was eleanor',\n",
    "'amazing work from sadeen!',\n",
    "'sarah was able to help me find the items i needed quickly',\n",
    "'lucy is such a great addition to the team',\n",
    "'great service from sara she found me what i wanted']"
   ],
   "id": "8ca6340b0bd1669b",
   "outputs": [],
   "execution_count": 41
  },
  {
   "metadata": {},
   "cell_type": "markdown",
   "source": "Find only sarah's reviews but account for the spelling of sara",
   "id": "a8dc8352b0a0a078"
  },
  {
   "metadata": {
    "ExecuteTime": {
     "end_time": "2025-07-28T23:37:53.064288Z",
     "start_time": "2025-07-28T23:37:53.058635Z"
    }
   },
   "cell_type": "code",
   "source": [
    "sarahs_reviews = []\n",
    "pattern_to_find = r\"sarah?\"\n",
    "# the ? after r means it is an optional character to match, so our search will look for sarah and sara"
   ],
   "id": "76f96880b7b2a8ff",
   "outputs": [],
   "execution_count": 20
  },
  {
   "metadata": {
    "ExecuteTime": {
     "end_time": "2025-07-29T00:12:43.896477Z",
     "start_time": "2025-07-29T00:12:43.893538Z"
    }
   },
   "cell_type": "code",
   "source": [
    "for string in customer_reviews:\n",
    "    if re.search(pattern_to_find, string):\n",
    "        sarahs_reviews.append(string)"
   ],
   "id": "26d07ce35fb50159",
   "outputs": [],
   "execution_count": 63
  },
  {
   "metadata": {
    "ExecuteTime": {
     "end_time": "2025-07-29T00:13:00.228324Z",
     "start_time": "2025-07-29T00:13:00.225509Z"
    }
   },
   "cell_type": "code",
   "source": "print(sarahs_reviews)",
   "id": "789cd08fd7bad9c6",
   "outputs": [
    {
     "name": "stdout",
     "output_type": "stream",
     "text": [
      "['sarah was able to help me find the items i needed quickly', 'great service from sara she found me what i wanted', 'the cashier was very rude to me, I think her name was eleanor', 'amazing work from sadeen!']\n"
     ]
    }
   ],
   "execution_count": 67
  },
  {
   "metadata": {},
   "cell_type": "markdown",
   "source": "Find reviews the start with the letter a\n",
   "id": "1c2d4186f306aba9"
  },
  {
   "metadata": {
    "ExecuteTime": {
     "end_time": "2025-07-28T23:41:28.059563Z",
     "start_time": "2025-07-28T23:41:28.055307Z"
    }
   },
   "cell_type": "code",
   "source": [
    "a_reviews = []\n",
    "pattern_to_find = r\"^a\" # the ^ operator to indicates the start of a string"
   ],
   "id": "5f81bd84a950879",
   "outputs": [],
   "execution_count": 24
  },
  {
   "metadata": {
    "ExecuteTime": {
     "end_time": "2025-07-28T23:41:54.155478Z",
     "start_time": "2025-07-28T23:41:54.151818Z"
    }
   },
   "cell_type": "code",
   "source": [
    "for string in customer_reviews:\n",
    "    if re.search(pattern_to_find, string):\n",
    "        a_reviews.append(string)"
   ],
   "id": "251a7d7116e39bb4",
   "outputs": [],
   "execution_count": 25
  },
  {
   "metadata": {
    "ExecuteTime": {
     "end_time": "2025-07-28T23:42:02.377379Z",
     "start_time": "2025-07-28T23:42:02.373712Z"
    }
   },
   "cell_type": "code",
   "source": "print(a_reviews)",
   "id": "585bb38156d531c4",
   "outputs": [
    {
     "name": "stdout",
     "output_type": "stream",
     "text": [
      "['amazing work from sadeen!']\n"
     ]
    }
   ],
   "execution_count": 26
  },
  {
   "metadata": {},
   "cell_type": "markdown",
   "source": "Find reviews that end with the letter y",
   "id": "1f5645fff6da11e2"
  },
  {
   "metadata": {
    "ExecuteTime": {
     "end_time": "2025-07-28T23:43:44.919466Z",
     "start_time": "2025-07-28T23:43:44.913377Z"
    }
   },
   "cell_type": "code",
   "source": [
    "y_reviews = []\n",
    "pattern_to_find = r\"y$\" #the $ operator to indicate the end of a string"
   ],
   "id": "dfdd401b3780de30",
   "outputs": [],
   "execution_count": 27
  },
  {
   "metadata": {
    "ExecuteTime": {
     "end_time": "2025-07-28T23:44:19.636740Z",
     "start_time": "2025-07-28T23:44:19.633354Z"
    }
   },
   "cell_type": "code",
   "source": [
    "for string in customer_reviews:\n",
    "    if re.search(pattern_to_find, string):\n",
    "        y_reviews.append(string)"
   ],
   "id": "6893c78766770984",
   "outputs": [],
   "execution_count": 28
  },
  {
   "metadata": {
    "ExecuteTime": {
     "end_time": "2025-07-28T23:44:25.256111Z",
     "start_time": "2025-07-28T23:44:25.252461Z"
    }
   },
   "cell_type": "code",
   "source": "print(y_reviews)",
   "id": "8925939bfdc8878a",
   "outputs": [
    {
     "name": "stdout",
     "output_type": "stream",
     "text": [
      "['sarah was able to help me find the items i needed quickly']\n"
     ]
    }
   ],
   "execution_count": 29
  },
  {
   "metadata": {
    "ExecuteTime": {
     "end_time": "2025-07-28T23:46:10.154796Z",
     "start_time": "2025-07-28T23:46:10.151266Z"
    }
   },
   "cell_type": "code",
   "source": [
    "needwant_reviews = []\n",
    "pattern_to_find = r\"(need|want)ed\"  # the pipe operator | can be used to man OR"
   ],
   "id": "9b2d24bd0f291665",
   "outputs": [],
   "execution_count": 30
  },
  {
   "metadata": {
    "ExecuteTime": {
     "end_time": "2025-07-28T23:46:39.799273Z",
     "start_time": "2025-07-28T23:46:39.795029Z"
    }
   },
   "cell_type": "code",
   "source": [
    "for string in customer_reviews:\n",
    "    if re.search(pattern_to_find, string):\n",
    "        needwant_reviews.append(string)"
   ],
   "id": "fce59d905d95b557",
   "outputs": [],
   "execution_count": 32
  },
  {
   "metadata": {
    "ExecuteTime": {
     "end_time": "2025-07-29T00:14:10.833590Z",
     "start_time": "2025-07-29T00:14:10.829916Z"
    }
   },
   "cell_type": "code",
   "source": "print(needwant_reviews)",
   "id": "d5a3867599bce025",
   "outputs": [
    {
     "name": "stdout",
     "output_type": "stream",
     "text": [
      "['sarah was able to help me find the items i needed quickly', 'great service from sara she found me what i wanted']\n"
     ]
    }
   ],
   "execution_count": 72
  },
  {
   "metadata": {},
   "cell_type": "markdown",
   "source": "Remove anything from the review that isn't a word or a space(i.e remove punctuation)",
   "id": "67fc70cfa784f289"
  },
  {
   "metadata": {
    "ExecuteTime": {
     "end_time": "2025-07-29T00:14:12.680862Z",
     "start_time": "2025-07-29T00:14:12.677972Z"
    }
   },
   "cell_type": "code",
   "source": [
    "no_punct_reviews = []\n",
    "pattern_to_find = r\"[^\\w\\s]\"\n",
    "# [^ ] means \"not\", \\w means word and \\s means whitespace: so find anything that is not a word or a space"
   ],
   "id": "fecc7033db5c2c04",
   "outputs": [],
   "execution_count": 73
  },
  {
   "metadata": {
    "ExecuteTime": {
     "end_time": "2025-07-29T20:37:59.479293Z",
     "start_time": "2025-07-29T20:37:59.347449Z"
    }
   },
   "cell_type": "code",
   "source": [
    "for string in customer_reviews:\n",
    "    no_punct_string = re.sub(pattern_to_find, \"\", string)\n",
    "    no_punct_reviews.append(no_punct_string)\n"
   ],
   "id": "5efd090b82d3aa90",
   "outputs": [
    {
     "ename": "NameError",
     "evalue": "name 'customer_reviews' is not defined",
     "output_type": "error",
     "traceback": [
      "\u001B[0;31m---------------------------------------------------------------------------\u001B[0m",
      "\u001B[0;31mNameError\u001B[0m                                 Traceback (most recent call last)",
      "Cell \u001B[0;32mIn[1], line 1\u001B[0m\n\u001B[0;32m----> 1\u001B[0m \u001B[38;5;28;01mfor\u001B[39;00m string \u001B[38;5;129;01min\u001B[39;00m \u001B[43mcustomer_reviews\u001B[49m:\n\u001B[1;32m      2\u001B[0m     no_punct_string \u001B[38;5;241m=\u001B[39m re\u001B[38;5;241m.\u001B[39msub(pattern_to_find, \u001B[38;5;124m\"\u001B[39m\u001B[38;5;124m\"\u001B[39m, string)\n\u001B[1;32m      3\u001B[0m     no_punct_reviews\u001B[38;5;241m.\u001B[39mappend(no_punct_string)\n",
      "\u001B[0;31mNameError\u001B[0m: name 'customer_reviews' is not defined"
     ]
    }
   ],
   "execution_count": 1
  },
  {
   "metadata": {
    "ExecuteTime": {
     "end_time": "2025-07-29T00:14:16.688657Z",
     "start_time": "2025-07-29T00:14:16.685336Z"
    }
   },
   "cell_type": "code",
   "source": "print(no_punct_reviews)\n",
   "id": "a4e2abdae65b76f0",
   "outputs": [
    {
     "name": "stdout",
     "output_type": "stream",
     "text": [
      "['Sam was a great help to me in the store', 'the cashier was very rude to me I think her name was eleanor', 'amazing work from sadeen', 'sarah was able to help me find the items i needed quickly', 'lucy is such a great addition to the team', 'great service from sara she found me what i wanted']\n"
     ]
    }
   ],
   "execution_count": 75
  },
  {
   "metadata": {
    "ExecuteTime": {
     "end_time": "2025-07-29T00:14:37.484701Z",
     "start_time": "2025-07-29T00:14:37.482164Z"
    }
   },
   "cell_type": "code",
   "source": "print(len(no_punct_reviews))",
   "id": "9be3c43c74fb7581",
   "outputs": [
    {
     "name": "stdout",
     "output_type": "stream",
     "text": [
      "6\n"
     ]
    }
   ],
   "execution_count": 76
  }
 ],
 "metadata": {
  "kernelspec": {
   "display_name": "Python 3",
   "language": "python",
   "name": "python3"
  },
  "language_info": {
   "codemirror_mode": {
    "name": "ipython",
    "version": 2
   },
   "file_extension": ".py",
   "mimetype": "text/x-python",
   "name": "python",
   "nbconvert_exporter": "python",
   "pygments_lexer": "ipython2",
   "version": "2.7.6"
  }
 },
 "nbformat": 4,
 "nbformat_minor": 5
}
