{
 "cells": [
  {
   "metadata": {},
   "cell_type": "markdown",
   "source": "# Lemmatization",
   "id": "b570638d5fdd39f3"
  },
  {
   "metadata": {},
   "cell_type": "markdown",
   "source": "Where stemming removes the last few characters of a word, lemmatization stems the word to a more meaningful base form and ensures it does not lose it's meaning. Lemmatization works more intelligently, referencing a pre-defined dictionary containing the context of words and uses this when diminishing the word to the base form.",
   "id": "22e713b1f63ba742"
  },
  {
   "metadata": {
    "ExecuteTime": {
     "end_time": "2025-07-29T18:43:59.129084Z",
     "start_time": "2025-07-29T18:43:59.123497Z"
    }
   },
   "cell_type": "code",
   "source": "connect_tokens = ['connecting', 'connected', 'connectivity', 'connect', 'connects']",
   "id": "7e6c3b27aa6a1729",
   "outputs": [],
   "execution_count": 2
  },
  {
   "metadata": {
    "ExecuteTime": {
     "end_time": "2025-07-29T18:44:56.440752Z",
     "start_time": "2025-07-29T18:44:56.437454Z"
    }
   },
   "cell_type": "code",
   "source": "learn_tokens = ['learned', 'learning', 'learn', 'learns', 'learner', 'learners']",
   "id": "d26a42a2860a720c",
   "outputs": [],
   "execution_count": 3
  },
  {
   "metadata": {
    "ExecuteTime": {
     "end_time": "2025-07-29T18:45:56.162606Z",
     "start_time": "2025-07-29T18:45:56.159645Z"
    }
   },
   "cell_type": "code",
   "source": "likes_tokens = ['likes', 'better', 'worse']",
   "id": "ba872e3961665183",
   "outputs": [],
   "execution_count": 4
  },
  {
   "metadata": {},
   "cell_type": "code",
   "outputs": [],
   "execution_count": null,
   "source": "",
   "id": "6e44e2406ba00f16"
  },
  {
   "metadata": {},
   "cell_type": "markdown",
   "source": "## Stemming",
   "id": "2dc9c1dbfae88f0"
  },
  {
   "metadata": {
    "ExecuteTime": {
     "end_time": "2025-07-29T18:46:39.527938Z",
     "start_time": "2025-07-29T18:46:39.378343Z"
    }
   },
   "cell_type": "code",
   "source": "from nltk.stem import PorterStemmer",
   "id": "44ca5ac014aa2d7a",
   "outputs": [],
   "execution_count": 5
  },
  {
   "metadata": {
    "ExecuteTime": {
     "end_time": "2025-07-29T18:46:55.129364Z",
     "start_time": "2025-07-29T18:46:55.126186Z"
    }
   },
   "cell_type": "code",
   "source": "ps = PorterStemmer()",
   "id": "bd2d334e4d13810f",
   "outputs": [],
   "execution_count": 6
  },
  {
   "metadata": {
    "ExecuteTime": {
     "end_time": "2025-07-29T18:47:26.206971Z",
     "start_time": "2025-07-29T18:47:26.203019Z"
    }
   },
   "cell_type": "code",
   "source": [
    "for t in connect_tokens:\n",
    "    print(t, \" : \", ps.stem(t))"
   ],
   "id": "4bee78206e4adb54",
   "outputs": [
    {
     "name": "stdout",
     "output_type": "stream",
     "text": [
      "connecting  :  connect\n",
      "connected  :  connect\n",
      "connectivity  :  connect\n",
      "connect  :  connect\n",
      "connects  :  connect\n"
     ]
    }
   ],
   "execution_count": 7
  },
  {
   "metadata": {
    "ExecuteTime": {
     "end_time": "2025-07-29T18:47:38.322750Z",
     "start_time": "2025-07-29T18:47:38.318323Z"
    }
   },
   "cell_type": "code",
   "source": [
    "for t in learn_tokens:\n",
    "    print(t, \" : \", ps.stem(t))"
   ],
   "id": "fea86f6e985ed8ee",
   "outputs": [
    {
     "name": "stdout",
     "output_type": "stream",
     "text": [
      "learned  :  learn\n",
      "learning  :  learn\n",
      "learn  :  learn\n",
      "learns  :  learn\n",
      "learner  :  learner\n",
      "learners  :  learner\n"
     ]
    }
   ],
   "execution_count": 8
  },
  {
   "metadata": {
    "ExecuteTime": {
     "end_time": "2025-07-29T18:47:48.823991Z",
     "start_time": "2025-07-29T18:47:48.819937Z"
    }
   },
   "cell_type": "code",
   "source": [
    "for t in likes_tokens:\n",
    "    print(t, \" : \", ps.stem(t))"
   ],
   "id": "16db529b87e0eb59",
   "outputs": [
    {
     "name": "stdout",
     "output_type": "stream",
     "text": [
      "likes  :  like\n",
      "better  :  better\n",
      "worse  :  wors\n"
     ]
    }
   ],
   "execution_count": 9
  },
  {
   "metadata": {},
   "cell_type": "markdown",
   "source": "## Lemmatization",
   "id": "90b2cca6944adde4"
  },
  {
   "metadata": {
    "ExecuteTime": {
     "end_time": "2025-07-29T18:49:21.363528Z",
     "start_time": "2025-07-29T18:49:20.287059Z"
    }
   },
   "cell_type": "code",
   "source": [
    "import nltk\n",
    "nltk.download('wordnet')\n",
    "from nltk.stem import WordNetLemmatizer"
   ],
   "id": "96a0c3c8447f775",
   "outputs": [
    {
     "name": "stderr",
     "output_type": "stream",
     "text": [
      "[nltk_data] Downloading package wordnet to /Users/a877544/nltk_data...\n"
     ]
    }
   ],
   "execution_count": 10
  },
  {
   "metadata": {
    "ExecuteTime": {
     "end_time": "2025-07-29T18:53:57.908601Z",
     "start_time": "2025-07-29T18:53:57.902067Z"
    }
   },
   "cell_type": "code",
   "source": [
    "#create lemmatizer\n",
    "lemmatizer = WordNetLemmatizer()"
   ],
   "id": "a9bb5bc69f5a6618",
   "outputs": [],
   "execution_count": 11
  },
  {
   "metadata": {
    "ExecuteTime": {
     "end_time": "2025-07-29T18:55:59.142634Z",
     "start_time": "2025-07-29T18:55:59.138031Z"
    }
   },
   "cell_type": "code",
   "source": [
    "for t in connect_tokens:\n",
    "    print(t, \" : \", lemmatizer.lemmatize(t))"
   ],
   "id": "4d9fc40f9a4b3446",
   "outputs": [
    {
     "name": "stdout",
     "output_type": "stream",
     "text": [
      "connecting  :  connecting\n",
      "connected  :  connected\n",
      "connectivity  :  connectivity\n",
      "connect  :  connect\n",
      "connects  :  connects\n"
     ]
    }
   ],
   "execution_count": 13
  },
  {
   "metadata": {
    "ExecuteTime": {
     "end_time": "2025-07-29T18:56:09.182532Z",
     "start_time": "2025-07-29T18:56:09.178522Z"
    }
   },
   "cell_type": "code",
   "source": [
    "for t in learn_tokens:\n",
    "    print(t, \" : \", lemmatizer.lemmatize(t))"
   ],
   "id": "750fcebfdd824e4e",
   "outputs": [
    {
     "name": "stdout",
     "output_type": "stream",
     "text": [
      "learned  :  learned\n",
      "learning  :  learning\n",
      "learn  :  learn\n",
      "learns  :  learns\n",
      "learner  :  learner\n",
      "learners  :  learner\n"
     ]
    }
   ],
   "execution_count": 14
  },
  {
   "metadata": {
    "ExecuteTime": {
     "end_time": "2025-07-29T18:56:26.976643Z",
     "start_time": "2025-07-29T18:56:26.972069Z"
    }
   },
   "cell_type": "code",
   "source": [
    "for t in likes_tokens:\n",
    "    print(t, \" : \", lemmatizer.lemmatize(t))"
   ],
   "id": "a160d24f10e63bf0",
   "outputs": [
    {
     "name": "stdout",
     "output_type": "stream",
     "text": [
      "likes  :  like\n",
      "better  :  better\n",
      "worse  :  worse\n"
     ]
    }
   ],
   "execution_count": 16
  },
  {
   "metadata": {},
   "cell_type": "code",
   "outputs": [],
   "execution_count": null,
   "source": "",
   "id": "df03248ca88bf801"
  }
 ],
 "metadata": {
  "kernelspec": {
   "display_name": "Python 3",
   "language": "python",
   "name": "python3"
  },
  "language_info": {
   "codemirror_mode": {
    "name": "ipython",
    "version": 2
   },
   "file_extension": ".py",
   "mimetype": "text/x-python",
   "name": "python",
   "nbconvert_exporter": "python",
   "pygments_lexer": "ipython2",
   "version": "2.7.6"
  }
 },
 "nbformat": 4,
 "nbformat_minor": 5
}
