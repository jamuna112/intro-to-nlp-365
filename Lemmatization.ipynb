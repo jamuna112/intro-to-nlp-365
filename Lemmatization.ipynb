{
 "cells": [
  {
   "metadata": {},
   "cell_type": "markdown",
   "source": "# Lemmatization",
   "id": "b570638d5fdd39f3"
  },
  {
   "metadata": {},
   "cell_type": "markdown",
   "source": "Where stemming removes the last few characters of a word, lemmatization stems the word to a more meaningful base form and ensures it does not lose it's meaning. Lemmatization works more intelligently, referencing a pre-defined dictionary containing the context of words and uses this when diminishing the word to the base form.",
   "id": "22e713b1f63ba742"
  },
  {
   "metadata": {
    "ExecuteTime": {
     "end_time": "2025-07-30T18:19:48.896106Z",
     "start_time": "2025-07-30T18:19:48.891971Z"
    }
   },
   "cell_type": "code",
   "source": "connect_tokens = ['connecting', 'connected', 'connectivity', 'connect', 'connects']",
   "id": "7e6c3b27aa6a1729",
   "outputs": [],
   "execution_count": 1
  },
  {
   "metadata": {
    "ExecuteTime": {
     "end_time": "2025-07-30T18:19:49.006819Z",
     "start_time": "2025-07-30T18:19:49.004785Z"
    }
   },
   "cell_type": "code",
   "source": "learn_tokens = ['learned', 'learning', 'learn', 'learns', 'learner', 'learners']",
   "id": "d26a42a2860a720c",
   "outputs": [],
   "execution_count": 2
  },
  {
   "metadata": {
    "ExecuteTime": {
     "end_time": "2025-07-30T18:19:49.025563Z",
     "start_time": "2025-07-30T18:19:49.023734Z"
    }
   },
   "cell_type": "code",
   "source": "likes_tokens = ['likes', 'better', 'worse']",
   "id": "ba872e3961665183",
   "outputs": [],
   "execution_count": 3
  },
  {
   "metadata": {
    "ExecuteTime": {
     "end_time": "2025-07-30T18:19:49.035876Z",
     "start_time": "2025-07-30T18:19:49.033740Z"
    }
   },
   "cell_type": "code",
   "source": "",
   "id": "6e44e2406ba00f16",
   "outputs": [],
   "execution_count": null
  },
  {
   "metadata": {},
   "cell_type": "markdown",
   "source": "## Stemming",
   "id": "2dc9c1dbfae88f0"
  },
  {
   "metadata": {
    "ExecuteTime": {
     "end_time": "2025-07-30T18:19:49.280100Z",
     "start_time": "2025-07-30T18:19:49.045487Z"
    }
   },
   "cell_type": "code",
   "source": "from nltk.stem import PorterStemmer",
   "id": "44ca5ac014aa2d7a",
   "outputs": [],
   "execution_count": 4
  },
  {
   "metadata": {
    "ExecuteTime": {
     "end_time": "2025-07-30T18:19:49.290116Z",
     "start_time": "2025-07-30T18:19:49.287814Z"
    }
   },
   "cell_type": "code",
   "source": "ps = PorterStemmer()",
   "id": "bd2d334e4d13810f",
   "outputs": [],
   "execution_count": 5
  },
  {
   "metadata": {
    "ExecuteTime": {
     "end_time": "2025-07-30T18:19:49.305809Z",
     "start_time": "2025-07-30T18:19:49.302444Z"
    }
   },
   "cell_type": "code",
   "source": [
    "for t in connect_tokens:\n",
    "    print(t, \" : \", ps.stem(t))"
   ],
   "id": "4bee78206e4adb54",
   "outputs": [
    {
     "name": "stdout",
     "output_type": "stream",
     "text": [
      "connecting  :  connect\n",
      "connected  :  connect\n",
      "connectivity  :  connect\n",
      "connect  :  connect\n",
      "connects  :  connect\n"
     ]
    }
   ],
   "execution_count": 6
  },
  {
   "metadata": {
    "ExecuteTime": {
     "end_time": "2025-07-30T18:19:49.319865Z",
     "start_time": "2025-07-30T18:19:49.316253Z"
    }
   },
   "cell_type": "code",
   "source": [
    "for t in learn_tokens:\n",
    "    print(t, \" : \", ps.stem(t))"
   ],
   "id": "fea86f6e985ed8ee",
   "outputs": [
    {
     "name": "stdout",
     "output_type": "stream",
     "text": [
      "learned  :  learn\n",
      "learning  :  learn\n",
      "learn  :  learn\n",
      "learns  :  learn\n",
      "learner  :  learner\n",
      "learners  :  learner\n"
     ]
    }
   ],
   "execution_count": 7
  },
  {
   "metadata": {
    "ExecuteTime": {
     "end_time": "2025-07-30T18:19:49.340665Z",
     "start_time": "2025-07-30T18:19:49.337188Z"
    }
   },
   "cell_type": "code",
   "source": [
    "for t in likes_tokens:\n",
    "    print(t, \" : \", ps.stem(t))"
   ],
   "id": "16db529b87e0eb59",
   "outputs": [
    {
     "name": "stdout",
     "output_type": "stream",
     "text": [
      "likes  :  like\n",
      "better  :  better\n",
      "worse  :  wors\n"
     ]
    }
   ],
   "execution_count": 8
  },
  {
   "metadata": {},
   "cell_type": "markdown",
   "source": "## Lemmatization",
   "id": "90b2cca6944adde4"
  },
  {
   "metadata": {
    "ExecuteTime": {
     "end_time": "2025-07-30T18:19:49.487708Z",
     "start_time": "2025-07-30T18:19:49.351978Z"
    }
   },
   "cell_type": "code",
   "source": [
    "import nltk\n",
    "nltk.download('wordnet')\n",
    "from nltk.stem import WordNetLemmatizer"
   ],
   "id": "96a0c3c8447f775",
   "outputs": [
    {
     "name": "stderr",
     "output_type": "stream",
     "text": [
      "[nltk_data] Downloading package wordnet to /Users/a877544/nltk_data...\n",
      "[nltk_data]   Package wordnet is already up-to-date!\n"
     ]
    }
   ],
   "execution_count": 9
  },
  {
   "metadata": {
    "ExecuteTime": {
     "end_time": "2025-07-30T18:19:49.498360Z",
     "start_time": "2025-07-30T18:19:49.496082Z"
    }
   },
   "cell_type": "code",
   "source": [
    "#create lemmatizer\n",
    "lemmatizer = WordNetLemmatizer()"
   ],
   "id": "a9bb5bc69f5a6618",
   "outputs": [],
   "execution_count": 10
  },
  {
   "metadata": {
    "ExecuteTime": {
     "end_time": "2025-07-30T18:19:51.224141Z",
     "start_time": "2025-07-30T18:19:49.509723Z"
    }
   },
   "cell_type": "code",
   "source": [
    "for t in connect_tokens:\n",
    "    print(t, \" : \", lemmatizer.lemmatize(t))"
   ],
   "id": "4d9fc40f9a4b3446",
   "outputs": [
    {
     "name": "stdout",
     "output_type": "stream",
     "text": [
      "connecting  :  connecting\n",
      "connected  :  connected\n",
      "connectivity  :  connectivity\n",
      "connect  :  connect\n",
      "connects  :  connects\n"
     ]
    }
   ],
   "execution_count": 11
  },
  {
   "metadata": {
    "ExecuteTime": {
     "end_time": "2025-07-30T18:19:51.234845Z",
     "start_time": "2025-07-30T18:19:51.232818Z"
    }
   },
   "cell_type": "code",
   "source": [
    "for t in learn_tokens:\n",
    "    print(t, \" : \", lemmatizer.lemmatize(t))"
   ],
   "id": "750fcebfdd824e4e",
   "outputs": [
    {
     "name": "stdout",
     "output_type": "stream",
     "text": [
      "learned  :  learned\n",
      "learning  :  learning\n",
      "learn  :  learn\n",
      "learns  :  learns\n",
      "learner  :  learner\n",
      "learners  :  learner\n"
     ]
    }
   ],
   "execution_count": 12
  },
  {
   "metadata": {
    "ExecuteTime": {
     "end_time": "2025-07-30T18:19:51.253836Z",
     "start_time": "2025-07-30T18:19:51.250750Z"
    }
   },
   "cell_type": "code",
   "source": [
    "for t in likes_tokens:\n",
    "    print(t, \" : \", lemmatizer.lemmatize(t))"
   ],
   "id": "a160d24f10e63bf0",
   "outputs": [
    {
     "name": "stdout",
     "output_type": "stream",
     "text": [
      "likes  :  like\n",
      "better  :  better\n",
      "worse  :  worse\n"
     ]
    }
   ],
   "execution_count": 13
  },
  {
   "metadata": {
    "ExecuteTime": {
     "end_time": "2025-07-30T18:19:51.265999Z",
     "start_time": "2025-07-30T18:19:51.264463Z"
    }
   },
   "cell_type": "code",
   "source": "",
   "id": "df03248ca88bf801",
   "outputs": [],
   "execution_count": null
  }
 ],
 "metadata": {
  "kernelspec": {
   "display_name": "Python 3",
   "language": "python",
   "name": "python3"
  },
  "language_info": {
   "codemirror_mode": {
    "name": "ipython",
    "version": 2
   },
   "file_extension": ".py",
   "mimetype": "text/x-python",
   "name": "python",
   "nbconvert_exporter": "python",
   "pygments_lexer": "ipython2",
   "version": "2.7.6"
  }
 },
 "nbformat": 4,
 "nbformat_minor": 5
}
